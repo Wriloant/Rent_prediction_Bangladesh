{
 "cells": [
  {
   "cell_type": "code",
   "execution_count": 52,
   "id": "775f375a-098a-4fc0-8291-e09af7101cf1",
   "metadata": {},
   "outputs": [],
   "source": [
    "import pandas as pd\n",
    "import numpy as np\n",
    "from matplotlib import pyplot as plt\n",
    "%matplotlib inline\n",
    "import matplotlib\n",
    "matplotlib.rcParams[\"figure.figsize\"] = (20,10)"
   ]
  },
  {
   "cell_type": "code",
   "execution_count": 53,
   "id": "699ea359-c81d-47a9-94f3-8e427c8bc65c",
   "metadata": {},
   "outputs": [
    {
     "data": {
      "text/html": [
       "<div>\n",
       "<style scoped>\n",
       "    .dataframe tbody tr th:only-of-type {\n",
       "        vertical-align: middle;\n",
       "    }\n",
       "\n",
       "    .dataframe tbody tr th {\n",
       "        vertical-align: top;\n",
       "    }\n",
       "\n",
       "    .dataframe thead th {\n",
       "        text-align: right;\n",
       "    }\n",
       "</style>\n",
       "<table border=\"1\" class=\"dataframe\">\n",
       "  <thead>\n",
       "    <tr style=\"text-align: right;\">\n",
       "      <th></th>\n",
       "      <th>title</th>\n",
       "      <th>beds</th>\n",
       "      <th>bath</th>\n",
       "      <th>area</th>\n",
       "      <th>address</th>\n",
       "      <th>type</th>\n",
       "      <th>purpose</th>\n",
       "      <th>floorPlan</th>\n",
       "      <th>url</th>\n",
       "      <th>lastUpdated</th>\n",
       "      <th>price</th>\n",
       "      <th>division</th>\n",
       "    </tr>\n",
       "  </thead>\n",
       "  <tbody>\n",
       "    <tr>\n",
       "      <th>0</th>\n",
       "      <td>Eminent Apartment Of 2200 Sq Ft Is Vacant For ...</td>\n",
       "      <td>3</td>\n",
       "      <td>4</td>\n",
       "      <td>2200</td>\n",
       "      <td>Block A, Bashundhara R-A, Dhaka</td>\n",
       "      <td>Apartment</td>\n",
       "      <td>For Rent</td>\n",
       "      <td>https://images-cdn.bproperty.com/thumbnails/10...</td>\n",
       "      <td>https://www.bproperty.com/en/property/details-...</td>\n",
       "      <td>8/13/2022</td>\n",
       "      <td>50000</td>\n",
       "      <td>Dhaka</td>\n",
       "    </tr>\n",
       "    <tr>\n",
       "      <th>1</th>\n",
       "      <td>Apartment Ready To Rent In South Khulshi, Near...</td>\n",
       "      <td>3</td>\n",
       "      <td>4</td>\n",
       "      <td>1400</td>\n",
       "      <td>South Khulshi, Khulshi, Chattogram</td>\n",
       "      <td>Apartment</td>\n",
       "      <td>For Rent</td>\n",
       "      <td>https://images-cdn.bproperty.com/thumbnails/44...</td>\n",
       "      <td>https://www.bproperty.com/en/property/details-...</td>\n",
       "      <td>1/25/2022</td>\n",
       "      <td>30000</td>\n",
       "      <td>Unknown</td>\n",
       "    </tr>\n",
       "    <tr>\n",
       "      <th>2</th>\n",
       "      <td>Smartly priced 1950 SQ FT apartment, that you ...</td>\n",
       "      <td>3</td>\n",
       "      <td>4</td>\n",
       "      <td>1950</td>\n",
       "      <td>Block F, Bashundhara R-A, Dhaka</td>\n",
       "      <td>Apartment</td>\n",
       "      <td>For Rent</td>\n",
       "      <td>https://images-cdn.bproperty.com/thumbnails/11...</td>\n",
       "      <td>https://www.bproperty.com/en/property/details-...</td>\n",
       "      <td>2/22/2023</td>\n",
       "      <td>30000</td>\n",
       "      <td>Dhaka</td>\n",
       "    </tr>\n",
       "  </tbody>\n",
       "</table>\n",
       "</div>"
      ],
      "text/plain": [
       "                                               title  beds  bath  area  \\\n",
       "0  Eminent Apartment Of 2200 Sq Ft Is Vacant For ...     3     4  2200   \n",
       "1  Apartment Ready To Rent In South Khulshi, Near...     3     4  1400   \n",
       "2  Smartly priced 1950 SQ FT apartment, that you ...     3     4  1950   \n",
       "\n",
       "                              address       type   purpose  \\\n",
       "0     Block A, Bashundhara R-A, Dhaka  Apartment  For Rent   \n",
       "1  South Khulshi, Khulshi, Chattogram  Apartment  For Rent   \n",
       "2     Block F, Bashundhara R-A, Dhaka  Apartment  For Rent   \n",
       "\n",
       "                                           floorPlan  \\\n",
       "0  https://images-cdn.bproperty.com/thumbnails/10...   \n",
       "1  https://images-cdn.bproperty.com/thumbnails/44...   \n",
       "2  https://images-cdn.bproperty.com/thumbnails/11...   \n",
       "\n",
       "                                                 url lastUpdated  price  \\\n",
       "0  https://www.bproperty.com/en/property/details-...   8/13/2022  50000   \n",
       "1  https://www.bproperty.com/en/property/details-...   1/25/2022  30000   \n",
       "2  https://www.bproperty.com/en/property/details-...   2/22/2023  30000   \n",
       "\n",
       "  division  \n",
       "0    Dhaka  \n",
       "1  Unknown  \n",
       "2    Dhaka  "
      ]
     },
     "execution_count": 53,
     "metadata": {},
     "output_type": "execute_result"
    }
   ],
   "source": [
    "df1= pd.read_csv(\"D:\\\\2nd_cleaned_property_listing_data_in_Bangladesh.csv\")\n",
    "df1.head(3)"
   ]
  },
  {
   "cell_type": "code",
   "execution_count": 54,
   "id": "8cd17b6c-0e9f-46f5-a9dd-a1d4a54c4888",
   "metadata": {},
   "outputs": [
    {
     "data": {
      "text/plain": [
       "(7557, 12)"
      ]
     },
     "execution_count": 54,
     "metadata": {},
     "output_type": "execute_result"
    }
   ],
   "source": [
    "df1.shape"
   ]
  },
  {
   "cell_type": "code",
   "execution_count": 55,
   "id": "a558b89d-0d99-4882-8992-d1e2ef0aa56e",
   "metadata": {},
   "outputs": [
    {
     "data": {
      "text/html": [
       "<div>\n",
       "<style scoped>\n",
       "    .dataframe tbody tr th:only-of-type {\n",
       "        vertical-align: middle;\n",
       "    }\n",
       "\n",
       "    .dataframe tbody tr th {\n",
       "        vertical-align: top;\n",
       "    }\n",
       "\n",
       "    .dataframe thead th {\n",
       "        text-align: right;\n",
       "    }\n",
       "</style>\n",
       "<table border=\"1\" class=\"dataframe\">\n",
       "  <thead>\n",
       "    <tr style=\"text-align: right;\">\n",
       "      <th></th>\n",
       "      <th>beds</th>\n",
       "      <th>bath</th>\n",
       "      <th>area</th>\n",
       "      <th>address</th>\n",
       "      <th>price</th>\n",
       "      <th>division</th>\n",
       "    </tr>\n",
       "  </thead>\n",
       "  <tbody>\n",
       "    <tr>\n",
       "      <th>0</th>\n",
       "      <td>3</td>\n",
       "      <td>4</td>\n",
       "      <td>2200</td>\n",
       "      <td>Block A, Bashundhara R-A, Dhaka</td>\n",
       "      <td>50000</td>\n",
       "      <td>Dhaka</td>\n",
       "    </tr>\n",
       "    <tr>\n",
       "      <th>1</th>\n",
       "      <td>3</td>\n",
       "      <td>4</td>\n",
       "      <td>1400</td>\n",
       "      <td>South Khulshi, Khulshi, Chattogram</td>\n",
       "      <td>30000</td>\n",
       "      <td>Unknown</td>\n",
       "    </tr>\n",
       "    <tr>\n",
       "      <th>2</th>\n",
       "      <td>3</td>\n",
       "      <td>4</td>\n",
       "      <td>1950</td>\n",
       "      <td>Block F, Bashundhara R-A, Dhaka</td>\n",
       "      <td>30000</td>\n",
       "      <td>Dhaka</td>\n",
       "    </tr>\n",
       "    <tr>\n",
       "      <th>3</th>\n",
       "      <td>3</td>\n",
       "      <td>3</td>\n",
       "      <td>2000</td>\n",
       "      <td>Sector 9, Uttara, Dhaka</td>\n",
       "      <td>35000</td>\n",
       "      <td>Dhaka</td>\n",
       "    </tr>\n",
       "    <tr>\n",
       "      <th>4</th>\n",
       "      <td>3</td>\n",
       "      <td>4</td>\n",
       "      <td>1650</td>\n",
       "      <td>Block I, Bashundhara R-A, Dhaka</td>\n",
       "      <td>25000</td>\n",
       "      <td>Dhaka</td>\n",
       "    </tr>\n",
       "  </tbody>\n",
       "</table>\n",
       "</div>"
      ],
      "text/plain": [
       "   beds  bath  area                             address  price division\n",
       "0     3     4  2200     Block A, Bashundhara R-A, Dhaka  50000    Dhaka\n",
       "1     3     4  1400  South Khulshi, Khulshi, Chattogram  30000  Unknown\n",
       "2     3     4  1950     Block F, Bashundhara R-A, Dhaka  30000    Dhaka\n",
       "3     3     3  2000             Sector 9, Uttara, Dhaka  35000    Dhaka\n",
       "4     3     4  1650     Block I, Bashundhara R-A, Dhaka  25000    Dhaka"
      ]
     },
     "execution_count": 55,
     "metadata": {},
     "output_type": "execute_result"
    }
   ],
   "source": [
    "df2 = df1.drop(['title','type','purpose','floorPlan','url','lastUpdated'],axis= \"columns\")\n",
    "df2.head()"
   ]
  },
  {
   "cell_type": "code",
   "execution_count": 56,
   "id": "33106c98-6106-4d37-b0c9-a712a9a6aff6",
   "metadata": {},
   "outputs": [
    {
     "data": {
      "text/plain": [
       "array(['Dhaka', 'Unknown'], dtype=object)"
      ]
     },
     "execution_count": 56,
     "metadata": {},
     "output_type": "execute_result"
    }
   ],
   "source": [
    "df2.division.unique()"
   ]
  },
  {
   "cell_type": "code",
   "execution_count": 57,
   "id": "c8332325-bb02-48f2-9511-3a236c945215",
   "metadata": {},
   "outputs": [
    {
     "data": {
      "text/plain": [
       "division\n",
       "Dhaka      5332\n",
       "Unknown    2225\n",
       "Name: division, dtype: int64"
      ]
     },
     "execution_count": 57,
     "metadata": {},
     "output_type": "execute_result"
    }
   ],
   "source": [
    "df2.groupby('division')['division'].agg('count')"
   ]
  },
  {
   "cell_type": "code",
   "execution_count": 58,
   "id": "5730aa22-09cb-4ea8-ac04-d84f53df921f",
   "metadata": {},
   "outputs": [
    {
     "data": {
      "text/html": [
       "<div>\n",
       "<style scoped>\n",
       "    .dataframe tbody tr th:only-of-type {\n",
       "        vertical-align: middle;\n",
       "    }\n",
       "\n",
       "    .dataframe tbody tr th {\n",
       "        vertical-align: top;\n",
       "    }\n",
       "\n",
       "    .dataframe thead th {\n",
       "        text-align: right;\n",
       "    }\n",
       "</style>\n",
       "<table border=\"1\" class=\"dataframe\">\n",
       "  <thead>\n",
       "    <tr style=\"text-align: right;\">\n",
       "      <th></th>\n",
       "      <th>beds</th>\n",
       "      <th>bath</th>\n",
       "      <th>area</th>\n",
       "      <th>address</th>\n",
       "      <th>price</th>\n",
       "      <th>division</th>\n",
       "    </tr>\n",
       "  </thead>\n",
       "  <tbody>\n",
       "    <tr>\n",
       "      <th>0</th>\n",
       "      <td>3</td>\n",
       "      <td>4</td>\n",
       "      <td>2200</td>\n",
       "      <td>Block A, Bashundhara R-A, Dhaka</td>\n",
       "      <td>50000</td>\n",
       "      <td>Dhaka</td>\n",
       "    </tr>\n",
       "    <tr>\n",
       "      <th>1</th>\n",
       "      <td>3</td>\n",
       "      <td>4</td>\n",
       "      <td>1400</td>\n",
       "      <td>South Khulshi, Khulshi, Chattogram</td>\n",
       "      <td>30000</td>\n",
       "      <td>Chittagong</td>\n",
       "    </tr>\n",
       "  </tbody>\n",
       "</table>\n",
       "</div>"
      ],
      "text/plain": [
       "   beds  bath  area                             address  price    division\n",
       "0     3     4  2200     Block A, Bashundhara R-A, Dhaka  50000       Dhaka\n",
       "1     3     4  1400  South Khulshi, Khulshi, Chattogram  30000  Chittagong"
      ]
     },
     "execution_count": 58,
     "metadata": {},
     "output_type": "execute_result"
    }
   ],
   "source": [
    "df2['division'] = df2['division'].str.replace('Unknown','Chittagong')\n",
    "df2.head(2)"
   ]
  },
  {
   "cell_type": "code",
   "execution_count": 59,
   "id": "1a7c8542-f5dd-4b13-b722-606e9f382737",
   "metadata": {},
   "outputs": [
    {
     "data": {
      "text/plain": [
       "beds        0\n",
       "bath        0\n",
       "area        0\n",
       "address     0\n",
       "price       0\n",
       "division    0\n",
       "dtype: int64"
      ]
     },
     "execution_count": 59,
     "metadata": {},
     "output_type": "execute_result"
    }
   ],
   "source": [
    "df2.isnull().sum()"
   ]
  },
  {
   "cell_type": "code",
   "execution_count": 60,
   "id": "fa30fb10-06db-42bd-94e7-16d325b56b53",
   "metadata": {},
   "outputs": [
    {
     "data": {
      "text/plain": [
       "(7557, 6)"
      ]
     },
     "execution_count": 60,
     "metadata": {},
     "output_type": "execute_result"
    }
   ],
   "source": [
    "df2.shape"
   ]
  },
  {
   "cell_type": "code",
   "execution_count": 61,
   "id": "76857526-d8c4-4a09-b85b-5c38b498408e",
   "metadata": {},
   "outputs": [
    {
     "data": {
      "text/plain": [
       "array([ 3,  5,  4,  2, 17,  6, 21,  7, 20, 32, 22, 36], dtype=int64)"
      ]
     },
     "execution_count": 61,
     "metadata": {},
     "output_type": "execute_result"
    }
   ],
   "source": [
    "df2.beds.unique()"
   ]
  },
  {
   "cell_type": "code",
   "execution_count": 62,
   "id": "612898b9-96e9-46ec-88b5-6cfe76bab463",
   "metadata": {},
   "outputs": [
    {
     "data": {
      "text/plain": [
       "8"
      ]
     },
     "execution_count": 62,
     "metadata": {},
     "output_type": "execute_result"
    }
   ],
   "source": [
    "len(df2[df2.beds>7])"
   ]
  },
  {
   "cell_type": "code",
   "execution_count": 63,
   "id": "b3801ebd-d9cb-4c88-9393-2078dc7ae5b0",
   "metadata": {},
   "outputs": [
    {
     "data": {
      "text/html": [
       "<div>\n",
       "<style scoped>\n",
       "    .dataframe tbody tr th:only-of-type {\n",
       "        vertical-align: middle;\n",
       "    }\n",
       "\n",
       "    .dataframe tbody tr th {\n",
       "        vertical-align: top;\n",
       "    }\n",
       "\n",
       "    .dataframe thead th {\n",
       "        text-align: right;\n",
       "    }\n",
       "</style>\n",
       "<table border=\"1\" class=\"dataframe\">\n",
       "  <thead>\n",
       "    <tr style=\"text-align: right;\">\n",
       "      <th></th>\n",
       "      <th>beds</th>\n",
       "      <th>bath</th>\n",
       "      <th>area</th>\n",
       "      <th>address</th>\n",
       "      <th>price</th>\n",
       "      <th>division</th>\n",
       "    </tr>\n",
       "  </thead>\n",
       "  <tbody>\n",
       "    <tr>\n",
       "      <th>181</th>\n",
       "      <td>17</td>\n",
       "      <td>10</td>\n",
       "      <td>9000</td>\n",
       "      <td>Block H, Bashundhara R-A, Dhaka</td>\n",
       "      <td>350000</td>\n",
       "      <td>Dhaka</td>\n",
       "    </tr>\n",
       "    <tr>\n",
       "      <th>372</th>\n",
       "      <td>21</td>\n",
       "      <td>10</td>\n",
       "      <td>16100</td>\n",
       "      <td>Road No 2, Sector 6, Uttara, Dhaka</td>\n",
       "      <td>1000000</td>\n",
       "      <td>Dhaka</td>\n",
       "    </tr>\n",
       "    <tr>\n",
       "      <th>872</th>\n",
       "      <td>20</td>\n",
       "      <td>10</td>\n",
       "      <td>14000</td>\n",
       "      <td>Sector 11, Uttara, Dhaka</td>\n",
       "      <td>500000</td>\n",
       "      <td>Dhaka</td>\n",
       "    </tr>\n",
       "    <tr>\n",
       "      <th>2548</th>\n",
       "      <td>32</td>\n",
       "      <td>10</td>\n",
       "      <td>18000</td>\n",
       "      <td>Block D, Bashundhara R-A, Dhaka</td>\n",
       "      <td>500000</td>\n",
       "      <td>Dhaka</td>\n",
       "    </tr>\n",
       "    <tr>\n",
       "      <th>3966</th>\n",
       "      <td>22</td>\n",
       "      <td>10</td>\n",
       "      <td>10000</td>\n",
       "      <td>Sector 14, Uttara, Dhaka</td>\n",
       "      <td>400000</td>\n",
       "      <td>Dhaka</td>\n",
       "    </tr>\n",
       "    <tr>\n",
       "      <th>5615</th>\n",
       "      <td>21</td>\n",
       "      <td>10</td>\n",
       "      <td>19360</td>\n",
       "      <td>Block K, Baridhara, Dhaka</td>\n",
       "      <td>1660000</td>\n",
       "      <td>Dhaka</td>\n",
       "    </tr>\n",
       "    <tr>\n",
       "      <th>6936</th>\n",
       "      <td>36</td>\n",
       "      <td>10</td>\n",
       "      <td>31500</td>\n",
       "      <td>Block K, Baridhara, Dhaka</td>\n",
       "      <td>2000000</td>\n",
       "      <td>Dhaka</td>\n",
       "    </tr>\n",
       "    <tr>\n",
       "      <th>7118</th>\n",
       "      <td>20</td>\n",
       "      <td>10</td>\n",
       "      <td>15000</td>\n",
       "      <td>Block K, Baridhara, Dhaka</td>\n",
       "      <td>1000000</td>\n",
       "      <td>Dhaka</td>\n",
       "    </tr>\n",
       "  </tbody>\n",
       "</table>\n",
       "</div>"
      ],
      "text/plain": [
       "      beds  bath   area                             address    price division\n",
       "181     17    10   9000     Block H, Bashundhara R-A, Dhaka   350000    Dhaka\n",
       "372     21    10  16100  Road No 2, Sector 6, Uttara, Dhaka  1000000    Dhaka\n",
       "872     20    10  14000            Sector 11, Uttara, Dhaka   500000    Dhaka\n",
       "2548    32    10  18000     Block D, Bashundhara R-A, Dhaka   500000    Dhaka\n",
       "3966    22    10  10000            Sector 14, Uttara, Dhaka   400000    Dhaka\n",
       "5615    21    10  19360           Block K, Baridhara, Dhaka  1660000    Dhaka\n",
       "6936    36    10  31500           Block K, Baridhara, Dhaka  2000000    Dhaka\n",
       "7118    20    10  15000           Block K, Baridhara, Dhaka  1000000    Dhaka"
      ]
     },
     "execution_count": 63,
     "metadata": {},
     "output_type": "execute_result"
    }
   ],
   "source": [
    "df2[df2.beds>7]"
   ]
  },
  {
   "cell_type": "code",
   "execution_count": 64,
   "id": "bce3e09d-d8a7-499e-b0b1-866763f22460",
   "metadata": {},
   "outputs": [
    {
     "data": {
      "text/plain": [
       "677"
      ]
     },
     "execution_count": 64,
     "metadata": {},
     "output_type": "execute_result"
    }
   ],
   "source": [
    "len(df2.address.unique())"
   ]
  },
  {
   "cell_type": "code",
   "execution_count": 65,
   "id": "032c661e-7324-48cf-bfe6-d3a080fb8ba7",
   "metadata": {},
   "outputs": [
    {
     "data": {
      "text/plain": [
       "address\n",
       "Sector 13, Uttara, Dhaka                                             248\n",
       "Mirpur, Dhaka                                                        152\n",
       "Block K, Baridhara, Dhaka                                            150\n",
       "Sector 10, Uttara, Dhaka                                             148\n",
       "Block A, Rajuk Uttara Apartment Project, Sector 18, Uttara, Dhaka    143\n",
       "                                                                    ... \n",
       "North Forida Para, 4 No Chandgaon Ward, Chattogram                     1\n",
       "North Gawair, Gawair, Dakshin Khan, Dhaka                              1\n",
       "North Pirerbag, Pirerbag, Mirpur, Dhaka                                1\n",
       "North Shahjahanpur, Shahjahanpur, Dhaka                                1\n",
       "Oxygen Residential Area, Oxygen, Bayazid, Chattogram                   1\n",
       "Name: address, Length: 677, dtype: int64"
      ]
     },
     "execution_count": 65,
     "metadata": {},
     "output_type": "execute_result"
    }
   ],
   "source": [
    "df2.address = df2.address.apply(lambda x: x.strip())\n",
    "location_stats = df2.groupby('address')['address'].agg('count').sort_values(ascending = False)\n",
    "location_stats"
   ]
  },
  {
   "cell_type": "code",
   "execution_count": 66,
   "id": "765eb81a-c27d-478a-a493-3d3ac51c67bf",
   "metadata": {},
   "outputs": [
    {
     "data": {
      "text/plain": [
       "495"
      ]
     },
     "execution_count": 66,
     "metadata": {},
     "output_type": "execute_result"
    }
   ],
   "source": [
    "len(location_stats[location_stats<=10])"
   ]
  },
  {
   "cell_type": "code",
   "execution_count": 67,
   "id": "91048f63-4510-48d8-850c-1f4c3d8ce8b3",
   "metadata": {},
   "outputs": [
    {
     "data": {
      "text/plain": [
       "address\n",
       "Block K, Halishahar Housing Estate, 26 No. North Halishahar Ward, Halishahar, Chattogram    10\n",
       "Block D, Section 11, Mirpur, Dhaka                                                          10\n",
       "Munshi Para, Munir Nagar, 37 No. North-Middle Halishahar Ward, Halishahar, Chattogram       10\n",
       "Senpara Parbata, Section 10, Mirpur, Dhaka                                                  10\n",
       "28 No. Pathantooly Ward, Double Mooring, Chattogram                                         10\n",
       "                                                                                            ..\n",
       "North Forida Para, 4 No Chandgaon Ward, Chattogram                                           1\n",
       "North Gawair, Gawair, Dakshin Khan, Dhaka                                                    1\n",
       "North Pirerbag, Pirerbag, Mirpur, Dhaka                                                      1\n",
       "North Shahjahanpur, Shahjahanpur, Dhaka                                                      1\n",
       "Oxygen Residential Area, Oxygen, Bayazid, Chattogram                                         1\n",
       "Name: address, Length: 495, dtype: int64"
      ]
     },
     "execution_count": 67,
     "metadata": {},
     "output_type": "execute_result"
    }
   ],
   "source": [
    "location_stats_less_than_10 = location_stats[location_stats<=10]\n",
    "location_stats_less_than_10"
   ]
  },
  {
   "cell_type": "code",
   "execution_count": 68,
   "id": "b1195a05-817e-4d1c-b4c5-222dfe8b5ec6",
   "metadata": {},
   "outputs": [
    {
     "data": {
      "text/plain": [
       "677"
      ]
     },
     "execution_count": 68,
     "metadata": {},
     "output_type": "execute_result"
    }
   ],
   "source": [
    "len(df2.address.unique())"
   ]
  },
  {
   "cell_type": "code",
   "execution_count": 69,
   "id": "e1033eb2-99b0-4a54-9769-e6794dec0124",
   "metadata": {},
   "outputs": [
    {
     "data": {
      "text/plain": [
       "183"
      ]
     },
     "execution_count": 69,
     "metadata": {},
     "output_type": "execute_result"
    }
   ],
   "source": [
    "df2.address = df2.address.apply(lambda x: 'other' if x in location_stats_less_than_10 else x)\n",
    "len(df2.address.unique())"
   ]
  },
  {
   "cell_type": "code",
   "execution_count": 70,
   "id": "a6abd2b3-fb97-4298-9ef9-faa9ccb40266",
   "metadata": {},
   "outputs": [
    {
     "data": {
      "text/html": [
       "<div>\n",
       "<style scoped>\n",
       "    .dataframe tbody tr th:only-of-type {\n",
       "        vertical-align: middle;\n",
       "    }\n",
       "\n",
       "    .dataframe tbody tr th {\n",
       "        vertical-align: top;\n",
       "    }\n",
       "\n",
       "    .dataframe thead th {\n",
       "        text-align: right;\n",
       "    }\n",
       "</style>\n",
       "<table border=\"1\" class=\"dataframe\">\n",
       "  <thead>\n",
       "    <tr style=\"text-align: right;\">\n",
       "      <th></th>\n",
       "      <th>beds</th>\n",
       "      <th>bath</th>\n",
       "      <th>area</th>\n",
       "      <th>address</th>\n",
       "      <th>price</th>\n",
       "      <th>division</th>\n",
       "    </tr>\n",
       "  </thead>\n",
       "  <tbody>\n",
       "    <tr>\n",
       "      <th>0</th>\n",
       "      <td>3</td>\n",
       "      <td>4</td>\n",
       "      <td>2200</td>\n",
       "      <td>Block A, Bashundhara R-A, Dhaka</td>\n",
       "      <td>50000</td>\n",
       "      <td>Dhaka</td>\n",
       "    </tr>\n",
       "    <tr>\n",
       "      <th>1</th>\n",
       "      <td>3</td>\n",
       "      <td>4</td>\n",
       "      <td>1400</td>\n",
       "      <td>South Khulshi, Khulshi, Chattogram</td>\n",
       "      <td>30000</td>\n",
       "      <td>Chittagong</td>\n",
       "    </tr>\n",
       "  </tbody>\n",
       "</table>\n",
       "</div>"
      ],
      "text/plain": [
       "   beds  bath  area                             address  price    division\n",
       "0     3     4  2200     Block A, Bashundhara R-A, Dhaka  50000       Dhaka\n",
       "1     3     4  1400  South Khulshi, Khulshi, Chattogram  30000  Chittagong"
      ]
     },
     "execution_count": 70,
     "metadata": {},
     "output_type": "execute_result"
    }
   ],
   "source": [
    "df2.head(2)"
   ]
  },
  {
   "cell_type": "markdown",
   "id": "ef910a30-f33a-4fc3-83db-a74adff66967",
   "metadata": {},
   "source": [
    "𝙊𝙪𝙩𝙡𝙞𝙚𝙧 𝙍𝙚𝙢𝙤𝙫𝙖𝙡 (𝙡𝙞𝙠𝙚 𝙩𝙮𝙥𝙞𝙘𝙖𝙡 𝙩𝙝𝙧𝙚𝙨𝙝𝙤𝙡𝙙)"
   ]
  },
  {
   "cell_type": "code",
   "execution_count": 71,
   "id": "3a422f10-c41d-4183-9f9c-c93c6791e7e2",
   "metadata": {},
   "outputs": [
    {
     "data": {
      "text/html": [
       "<div>\n",
       "<style scoped>\n",
       "    .dataframe tbody tr th:only-of-type {\n",
       "        vertical-align: middle;\n",
       "    }\n",
       "\n",
       "    .dataframe tbody tr th {\n",
       "        vertical-align: top;\n",
       "    }\n",
       "\n",
       "    .dataframe thead th {\n",
       "        text-align: right;\n",
       "    }\n",
       "</style>\n",
       "<table border=\"1\" class=\"dataframe\">\n",
       "  <thead>\n",
       "    <tr style=\"text-align: right;\">\n",
       "      <th></th>\n",
       "      <th>beds</th>\n",
       "      <th>bath</th>\n",
       "      <th>area</th>\n",
       "      <th>address</th>\n",
       "      <th>price</th>\n",
       "      <th>division</th>\n",
       "    </tr>\n",
       "  </thead>\n",
       "  <tbody>\n",
       "    <tr>\n",
       "      <th>0</th>\n",
       "      <td>3</td>\n",
       "      <td>4</td>\n",
       "      <td>2200</td>\n",
       "      <td>Block A, Bashundhara R-A, Dhaka</td>\n",
       "      <td>50000</td>\n",
       "      <td>Dhaka</td>\n",
       "    </tr>\n",
       "    <tr>\n",
       "      <th>1</th>\n",
       "      <td>3</td>\n",
       "      <td>4</td>\n",
       "      <td>1400</td>\n",
       "      <td>South Khulshi, Khulshi, Chattogram</td>\n",
       "      <td>30000</td>\n",
       "      <td>Chittagong</td>\n",
       "    </tr>\n",
       "  </tbody>\n",
       "</table>\n",
       "</div>"
      ],
      "text/plain": [
       "   beds  bath  area                             address  price    division\n",
       "0     3     4  2200     Block A, Bashundhara R-A, Dhaka  50000       Dhaka\n",
       "1     3     4  1400  South Khulshi, Khulshi, Chattogram  30000  Chittagong"
      ]
     },
     "execution_count": 71,
     "metadata": {},
     "output_type": "execute_result"
    }
   ],
   "source": [
    "df3 = df2.copy()\n",
    "df3.head(2)"
   ]
  },
  {
   "cell_type": "code",
   "execution_count": 72,
   "id": "41100e46-073b-42f9-8824-554158cfb98d",
   "metadata": {},
   "outputs": [
    {
     "data": {
      "text/html": [
       "<div>\n",
       "<style scoped>\n",
       "    .dataframe tbody tr th:only-of-type {\n",
       "        vertical-align: middle;\n",
       "    }\n",
       "\n",
       "    .dataframe tbody tr th {\n",
       "        vertical-align: top;\n",
       "    }\n",
       "\n",
       "    .dataframe thead th {\n",
       "        text-align: right;\n",
       "    }\n",
       "</style>\n",
       "<table border=\"1\" class=\"dataframe\">\n",
       "  <thead>\n",
       "    <tr style=\"text-align: right;\">\n",
       "      <th></th>\n",
       "      <th>beds</th>\n",
       "      <th>bath</th>\n",
       "      <th>area</th>\n",
       "      <th>address</th>\n",
       "      <th>price</th>\n",
       "      <th>division</th>\n",
       "    </tr>\n",
       "  </thead>\n",
       "  <tbody>\n",
       "    <tr>\n",
       "      <th>28</th>\n",
       "      <td>3</td>\n",
       "      <td>3</td>\n",
       "      <td>550</td>\n",
       "      <td>West Shewrapara, Mirpur, Dhaka</td>\n",
       "      <td>12000</td>\n",
       "      <td>Dhaka</td>\n",
       "    </tr>\n",
       "    <tr>\n",
       "      <th>36</th>\n",
       "      <td>3</td>\n",
       "      <td>3</td>\n",
       "      <td>400</td>\n",
       "      <td>Khilkhet, Dhaka</td>\n",
       "      <td>10000</td>\n",
       "      <td>Dhaka</td>\n",
       "    </tr>\n",
       "    <tr>\n",
       "      <th>39</th>\n",
       "      <td>3</td>\n",
       "      <td>3</td>\n",
       "      <td>500</td>\n",
       "      <td>other</td>\n",
       "      <td>10000</td>\n",
       "      <td>Dhaka</td>\n",
       "    </tr>\n",
       "    <tr>\n",
       "      <th>131</th>\n",
       "      <td>2</td>\n",
       "      <td>3</td>\n",
       "      <td>350</td>\n",
       "      <td>PC Culture Housing, Mohammadpur, Dhaka</td>\n",
       "      <td>10000</td>\n",
       "      <td>Dhaka</td>\n",
       "    </tr>\n",
       "    <tr>\n",
       "      <th>146</th>\n",
       "      <td>2</td>\n",
       "      <td>3</td>\n",
       "      <td>450</td>\n",
       "      <td>Faydabad, Dakshin Khan, Dhaka</td>\n",
       "      <td>7300</td>\n",
       "      <td>Dhaka</td>\n",
       "    </tr>\n",
       "  </tbody>\n",
       "</table>\n",
       "</div>"
      ],
      "text/plain": [
       "     beds  bath  area                                 address  price division\n",
       "28      3     3   550          West Shewrapara, Mirpur, Dhaka  12000    Dhaka\n",
       "36      3     3   400                         Khilkhet, Dhaka  10000    Dhaka\n",
       "39      3     3   500                                   other  10000    Dhaka\n",
       "131     2     3   350  PC Culture Housing, Mohammadpur, Dhaka  10000    Dhaka\n",
       "146     2     3   450           Faydabad, Dakshin Khan, Dhaka   7300    Dhaka"
      ]
     },
     "execution_count": 72,
     "metadata": {},
     "output_type": "execute_result"
    }
   ],
   "source": [
    "df3[df3.area/df3.beds<300].head()"
   ]
  },
  {
   "cell_type": "code",
   "execution_count": 73,
   "id": "30f73ea4-7196-414d-8b90-ecb0e8a8e95e",
   "metadata": {},
   "outputs": [
    {
     "data": {
      "text/plain": [
       "245"
      ]
     },
     "execution_count": 73,
     "metadata": {},
     "output_type": "execute_result"
    }
   ],
   "source": [
    "len(df3[df3.area/df3.beds<300])"
   ]
  },
  {
   "cell_type": "code",
   "execution_count": 74,
   "id": "20b0d2a3-b074-42a8-8140-35558b5d4684",
   "metadata": {},
   "outputs": [
    {
     "data": {
      "text/plain": [
       "(7557, 6)"
      ]
     },
     "execution_count": 74,
     "metadata": {},
     "output_type": "execute_result"
    }
   ],
   "source": [
    "df3.shape"
   ]
  },
  {
   "cell_type": "code",
   "execution_count": 75,
   "id": "d22b8987-48f1-4000-a8ea-881bcaed7168",
   "metadata": {},
   "outputs": [
    {
     "data": {
      "text/plain": [
       "(7312, 6)"
      ]
     },
     "execution_count": 75,
     "metadata": {},
     "output_type": "execute_result"
    }
   ],
   "source": [
    "df4 = df3[~(df3.area/df3.beds<300)]\n",
    "df4.shape"
   ]
  },
  {
   "cell_type": "code",
   "execution_count": 76,
   "id": "e8a58eab-1797-4c63-9c5a-4d95da2b5053",
   "metadata": {},
   "outputs": [],
   "source": [
    "df5 = df4.copy()"
   ]
  },
  {
   "cell_type": "code",
   "execution_count": 77,
   "id": "731ac591-448a-42d0-9f7d-cbed9d97454d",
   "metadata": {},
   "outputs": [
    {
     "data": {
      "text/html": [
       "<div>\n",
       "<style scoped>\n",
       "    .dataframe tbody tr th:only-of-type {\n",
       "        vertical-align: middle;\n",
       "    }\n",
       "\n",
       "    .dataframe tbody tr th {\n",
       "        vertical-align: top;\n",
       "    }\n",
       "\n",
       "    .dataframe thead th {\n",
       "        text-align: right;\n",
       "    }\n",
       "</style>\n",
       "<table border=\"1\" class=\"dataframe\">\n",
       "  <thead>\n",
       "    <tr style=\"text-align: right;\">\n",
       "      <th></th>\n",
       "      <th>beds</th>\n",
       "      <th>bath</th>\n",
       "      <th>area</th>\n",
       "      <th>address</th>\n",
       "      <th>price</th>\n",
       "      <th>division</th>\n",
       "      <th>rent_per_sqft</th>\n",
       "    </tr>\n",
       "  </thead>\n",
       "  <tbody>\n",
       "    <tr>\n",
       "      <th>0</th>\n",
       "      <td>3</td>\n",
       "      <td>4</td>\n",
       "      <td>2200</td>\n",
       "      <td>Block A, Bashundhara R-A, Dhaka</td>\n",
       "      <td>50000</td>\n",
       "      <td>Dhaka</td>\n",
       "      <td>22.727273</td>\n",
       "    </tr>\n",
       "    <tr>\n",
       "      <th>1</th>\n",
       "      <td>3</td>\n",
       "      <td>4</td>\n",
       "      <td>1400</td>\n",
       "      <td>South Khulshi, Khulshi, Chattogram</td>\n",
       "      <td>30000</td>\n",
       "      <td>Chittagong</td>\n",
       "      <td>21.428571</td>\n",
       "    </tr>\n",
       "    <tr>\n",
       "      <th>2</th>\n",
       "      <td>3</td>\n",
       "      <td>4</td>\n",
       "      <td>1950</td>\n",
       "      <td>Block F, Bashundhara R-A, Dhaka</td>\n",
       "      <td>30000</td>\n",
       "      <td>Dhaka</td>\n",
       "      <td>15.384615</td>\n",
       "    </tr>\n",
       "  </tbody>\n",
       "</table>\n",
       "</div>"
      ],
      "text/plain": [
       "   beds  bath  area                             address  price    division  \\\n",
       "0     3     4  2200     Block A, Bashundhara R-A, Dhaka  50000       Dhaka   \n",
       "1     3     4  1400  South Khulshi, Khulshi, Chattogram  30000  Chittagong   \n",
       "2     3     4  1950     Block F, Bashundhara R-A, Dhaka  30000       Dhaka   \n",
       "\n",
       "   rent_per_sqft  \n",
       "0      22.727273  \n",
       "1      21.428571  \n",
       "2      15.384615  "
      ]
     },
     "execution_count": 77,
     "metadata": {},
     "output_type": "execute_result"
    }
   ],
   "source": [
    "df5['rent_per_sqft'] = df5.price/df5.area\n",
    "df5.head(3)"
   ]
  },
  {
   "cell_type": "code",
   "execution_count": 78,
   "id": "83b42ad4-8f8f-4103-84d1-c6eac703b454",
   "metadata": {},
   "outputs": [
    {
     "data": {
      "text/plain": [
       "count    7312.000000\n",
       "mean       20.518037\n",
       "std        13.413606\n",
       "min         6.842105\n",
       "25%        14.285714\n",
       "50%        17.241379\n",
       "75%        21.538462\n",
       "max       543.529412\n",
       "Name: rent_per_sqft, dtype: float64"
      ]
     },
     "execution_count": 78,
     "metadata": {},
     "output_type": "execute_result"
    }
   ],
   "source": [
    "df5.rent_per_sqft.describe()"
   ]
  },
  {
   "cell_type": "code",
   "execution_count": 79,
   "id": "bf0e0b5c-f325-43e4-8827-7aaf1b5687e0",
   "metadata": {},
   "outputs": [
    {
     "data": {
      "text/html": [
       "<div>\n",
       "<style scoped>\n",
       "    .dataframe tbody tr th:only-of-type {\n",
       "        vertical-align: middle;\n",
       "    }\n",
       "\n",
       "    .dataframe tbody tr th {\n",
       "        vertical-align: top;\n",
       "    }\n",
       "\n",
       "    .dataframe thead th {\n",
       "        text-align: right;\n",
       "    }\n",
       "</style>\n",
       "<table border=\"1\" class=\"dataframe\">\n",
       "  <thead>\n",
       "    <tr style=\"text-align: right;\">\n",
       "      <th></th>\n",
       "      <th>beds</th>\n",
       "      <th>bath</th>\n",
       "      <th>area</th>\n",
       "      <th>address</th>\n",
       "      <th>price</th>\n",
       "      <th>division</th>\n",
       "      <th>rent_per_sqft</th>\n",
       "    </tr>\n",
       "  </thead>\n",
       "  <tbody>\n",
       "    <tr>\n",
       "      <th>7067</th>\n",
       "      <td>3</td>\n",
       "      <td>3</td>\n",
       "      <td>1700</td>\n",
       "      <td>Dhanmondi, Dhaka</td>\n",
       "      <td>924000</td>\n",
       "      <td>Dhaka</td>\n",
       "      <td>543.529412</td>\n",
       "    </tr>\n",
       "  </tbody>\n",
       "</table>\n",
       "</div>"
      ],
      "text/plain": [
       "      beds  bath  area           address   price division  rent_per_sqft\n",
       "7067     3     3  1700  Dhanmondi, Dhaka  924000    Dhaka     543.529412"
      ]
     },
     "execution_count": 79,
     "metadata": {},
     "output_type": "execute_result"
    }
   ],
   "source": [
    "df5[df5.rent_per_sqft> 540]"
   ]
  },
  {
   "cell_type": "code",
   "execution_count": 80,
   "id": "9b95e88e-351b-4f76-bcb7-c2d8dec765c3",
   "metadata": {},
   "outputs": [
    {
     "data": {
      "text/plain": [
       "(5524, 7)"
      ]
     },
     "execution_count": 80,
     "metadata": {},
     "output_type": "execute_result"
    }
   ],
   "source": [
    "def remove_pps_outliers(df):\n",
    "    df_out = pd.DataFrame()\n",
    "    for key, subdf in df.groupby('address'):\n",
    "        m = np.mean(subdf.rent_per_sqft)\n",
    "        st = np.std(subdf.rent_per_sqft)\n",
    "        reduced_df = subdf[(subdf.rent_per_sqft>(m-st)) & (subdf.rent_per_sqft<=(m+st))]\n",
    "        df_out = pd.concat([df_out,reduced_df],ignore_index=True)\n",
    "    return df_out\n",
    "df6 = remove_pps_outliers(df5)\n",
    "df6.shape"
   ]
  },
  {
   "cell_type": "code",
   "execution_count": 81,
   "id": "b9cc28f0-5780-4f7b-8c2d-194d437c4676",
   "metadata": {},
   "outputs": [
    {
     "data": {
      "text/html": [
       "<div>\n",
       "<style scoped>\n",
       "    .dataframe tbody tr th:only-of-type {\n",
       "        vertical-align: middle;\n",
       "    }\n",
       "\n",
       "    .dataframe tbody tr th {\n",
       "        vertical-align: top;\n",
       "    }\n",
       "\n",
       "    .dataframe thead th {\n",
       "        text-align: right;\n",
       "    }\n",
       "</style>\n",
       "<table border=\"1\" class=\"dataframe\">\n",
       "  <thead>\n",
       "    <tr style=\"text-align: right;\">\n",
       "      <th></th>\n",
       "      <th>beds</th>\n",
       "      <th>bath</th>\n",
       "      <th>area</th>\n",
       "      <th>address</th>\n",
       "      <th>price</th>\n",
       "      <th>division</th>\n",
       "      <th>rent_per_sqft</th>\n",
       "    </tr>\n",
       "  </thead>\n",
       "  <tbody>\n",
       "    <tr>\n",
       "      <th>0</th>\n",
       "      <td>2</td>\n",
       "      <td>2</td>\n",
       "      <td>850</td>\n",
       "      <td>10 No. North Kattali Ward, Chattogram</td>\n",
       "      <td>12000</td>\n",
       "      <td>Chittagong</td>\n",
       "      <td>14.117647</td>\n",
       "    </tr>\n",
       "    <tr>\n",
       "      <th>1</th>\n",
       "      <td>2</td>\n",
       "      <td>2</td>\n",
       "      <td>850</td>\n",
       "      <td>10 No. North Kattali Ward, Chattogram</td>\n",
       "      <td>12000</td>\n",
       "      <td>Chittagong</td>\n",
       "      <td>14.117647</td>\n",
       "    </tr>\n",
       "  </tbody>\n",
       "</table>\n",
       "</div>"
      ],
      "text/plain": [
       "   beds  bath  area                                address  price    division  \\\n",
       "0     2     2   850  10 No. North Kattali Ward, Chattogram  12000  Chittagong   \n",
       "1     2     2   850  10 No. North Kattali Ward, Chattogram  12000  Chittagong   \n",
       "\n",
       "   rent_per_sqft  \n",
       "0      14.117647  \n",
       "1      14.117647  "
      ]
     },
     "execution_count": 81,
     "metadata": {},
     "output_type": "execute_result"
    }
   ],
   "source": [
    "df6.head(2)"
   ]
  },
  {
   "cell_type": "code",
   "execution_count": 82,
   "id": "54069683-4423-4a0a-a258-282a43cb455e",
   "metadata": {},
   "outputs": [
    {
     "data": {
      "image/png": "[encoded data removed]",
      "text/plain": [
       "<Figure size 1000x700 with 1 Axes>"
      ]
     },
     "metadata": {},
     "output_type": "display_data"
    }
   ],
   "source": [
    "def plot_scatter_chart(df,address):\n",
    "    beds2 = df[(df.address== address) & (df.beds==2)]\n",
    "    beds3 = df[(df.address== address) & (df.beds==3)]\n",
    "    matplotlib.rcParams[\"figure.figsize\"] = (10,7)\n",
    "    plt.scatter(beds2.area,beds2.price,color= 'blue',label= '2 beds',s = 50)\n",
    "    plt.scatter(beds3.area,beds3.price,marker='+',color= 'green',label= '3 beds',s = 50)\n",
    "    plt.xlabel(\"Total Square Feet Area\")\n",
    "    plt.ylabel(\"Price per Square Feet\")\n",
    "    plt.title(address)\n",
    "    plt.legend()\n",
    "    plt.show()\n",
    "\n",
    "plot_scatter_chart(df6,\"Dhanmondi, Dhaka\")\n",
    "    "
   ]
  },
  {
   "cell_type": "code",
   "execution_count": 83,
   "id": "f825a518-6830-42f9-8309-839d9d48b673",
   "metadata": {},
   "outputs": [
    {
     "data": {
      "text/plain": [
       "(4339, 7)"
      ]
     },
     "execution_count": 83,
     "metadata": {},
     "output_type": "execute_result"
    }
   ],
   "source": [
    "def remove_beds_outliers(df):\n",
    "    exclude_indices = np.array([])\n",
    "    for address, address_df in df.groupby('address'):\n",
    "        beds_stats = {}\n",
    "        for beds, beds_df in address_df.groupby('beds'):\n",
    "            beds_stats[beds] = {\n",
    "                'mean' : np.mean(beds_df.rent_per_sqft),\n",
    "                'std' : np.std(beds_df.rent_per_sqft),\n",
    "                'count': beds_df.shape[0]\n",
    "            }\n",
    "        for beds, beds_df in address_df.groupby('beds'):\n",
    "            stats = beds_stats.get(beds-1)\n",
    "            if stats and stats['count'] > 5:\n",
    "                exclude_indices = np.append(exclude_indices, beds_df[beds_df.rent_per_sqft<(stats['mean'])].index.values)\n",
    "    return df.drop(exclude_indices,axis = 'index')\n",
    "\n",
    "df7 = remove_beds_outliers(df6)\n",
    "df7.shape"
   ]
  },
  {
   "cell_type": "code",
   "execution_count": 84,
   "id": "a6a63d26-d200-4c11-ad9e-f10bc2ff280f",
   "metadata": {},
   "outputs": [
    {
     "data": {
      "image/png": "[encoded data removed]",
      "text/plain": [
       "<Figure size 1000x700 with 1 Axes>"
      ]
     },
     "metadata": {},
     "output_type": "display_data"
    }
   ],
   "source": [
    "plot_scatter_chart(df7,\"Dhanmondi, Dhaka\")\n"
   ]
  },
  {
   "cell_type": "code",
   "execution_count": 85,
   "id": "c8602a6c-5e1e-4cb0-ba4f-a308094c15c9",
   "metadata": {},
   "outputs": [
    {
     "data": {
      "image/png": "[encoded data removed]",
      "text/plain": [
       "<Figure size 1500x1000 with 1 Axes>"
      ]
     },
     "metadata": {},
     "output_type": "display_data"
    }
   ],
   "source": [
    "import matplotlib\n",
    "matplotlib.rcParams[\"figure.figsize\"] = (15,10)\n",
    "plt.hist(df7.rent_per_sqft,rwidth = .8)\n",
    "plt.xlabel(\"Rent per Square Feet\")\n",
    "plt.ylabel(\"Count\")\n",
    "plt.show()"
   ]
  },
  {
   "cell_type": "code",
   "execution_count": 86,
   "id": "410d8da8-c078-4ad8-a1de-3e61014ec2e4",
   "metadata": {},
   "outputs": [
    {
     "data": {
      "text/plain": [
       "array([ 2,  3,  4,  5, 10,  6,  8,  7], dtype=int64)"
      ]
     },
     "execution_count": 86,
     "metadata": {},
     "output_type": "execute_result"
    }
   ],
   "source": [
    "df7.bath.unique()"
   ]
  },
  {
   "cell_type": "code",
   "execution_count": 87,
   "id": "3aaf4b2f-4d00-471f-88dc-96b00514dd59",
   "metadata": {},
   "outputs": [
    {
     "data": {
      "text/html": [
       "<div>\n",
       "<style scoped>\n",
       "    .dataframe tbody tr th:only-of-type {\n",
       "        vertical-align: middle;\n",
       "    }\n",
       "\n",
       "    .dataframe tbody tr th {\n",
       "        vertical-align: top;\n",
       "    }\n",
       "\n",
       "    .dataframe thead th {\n",
       "        text-align: right;\n",
       "    }\n",
       "</style>\n",
       "<table border=\"1\" class=\"dataframe\">\n",
       "  <thead>\n",
       "    <tr style=\"text-align: right;\">\n",
       "      <th></th>\n",
       "      <th>beds</th>\n",
       "      <th>bath</th>\n",
       "      <th>area</th>\n",
       "      <th>address</th>\n",
       "      <th>price</th>\n",
       "      <th>division</th>\n",
       "      <th>rent_per_sqft</th>\n",
       "    </tr>\n",
       "  </thead>\n",
       "  <tbody>\n",
       "    <tr>\n",
       "      <th>943</th>\n",
       "      <td>32</td>\n",
       "      <td>10</td>\n",
       "      <td>18000</td>\n",
       "      <td>Block D, Bashundhara R-A, Dhaka</td>\n",
       "      <td>500000</td>\n",
       "      <td>Dhaka</td>\n",
       "      <td>27.777778</td>\n",
       "    </tr>\n",
       "    <tr>\n",
       "      <th>1225</th>\n",
       "      <td>36</td>\n",
       "      <td>10</td>\n",
       "      <td>31500</td>\n",
       "      <td>Block K, Baridhara, Dhaka</td>\n",
       "      <td>2000000</td>\n",
       "      <td>Dhaka</td>\n",
       "      <td>63.492063</td>\n",
       "    </tr>\n",
       "    <tr>\n",
       "      <th>1230</th>\n",
       "      <td>20</td>\n",
       "      <td>10</td>\n",
       "      <td>15000</td>\n",
       "      <td>Block K, Baridhara, Dhaka</td>\n",
       "      <td>1000000</td>\n",
       "      <td>Dhaka</td>\n",
       "      <td>66.666667</td>\n",
       "    </tr>\n",
       "  </tbody>\n",
       "</table>\n",
       "</div>"
      ],
      "text/plain": [
       "      beds  bath   area                          address    price division  \\\n",
       "943     32    10  18000  Block D, Bashundhara R-A, Dhaka   500000    Dhaka   \n",
       "1225    36    10  31500        Block K, Baridhara, Dhaka  2000000    Dhaka   \n",
       "1230    20    10  15000        Block K, Baridhara, Dhaka  1000000    Dhaka   \n",
       "\n",
       "      rent_per_sqft  \n",
       "943       27.777778  \n",
       "1225      63.492063  \n",
       "1230      66.666667  "
      ]
     },
     "execution_count": 87,
     "metadata": {},
     "output_type": "execute_result"
    }
   ],
   "source": [
    "df7[df7.bath>8]"
   ]
  },
  {
   "cell_type": "code",
   "execution_count": 88,
   "id": "39cfd03e-1256-4143-bd3b-a971c17da404",
   "metadata": {},
   "outputs": [
    {
     "data": {
      "image/png": "[encoded data removed]",
      "text/plain": [
       "<Figure size 1500x1000 with 1 Axes>"
      ]
     },
     "metadata": {},
     "output_type": "display_data"
    }
   ],
   "source": [
    "plt.hist(df7.bath,rwidth = .8)\n",
    "plt.xlabel(\"Number of Bathroom\")\n",
    "plt.ylabel(\"Count\")\n",
    "plt.show()"
   ]
  },
  {
   "cell_type": "code",
   "execution_count": 89,
   "id": "83dde5b1-72cd-493f-a2bd-a82cec311bf6",
   "metadata": {},
   "outputs": [
    {
     "data": {
      "text/html": [
       "<div>\n",
       "<style scoped>\n",
       "    .dataframe tbody tr th:only-of-type {\n",
       "        vertical-align: middle;\n",
       "    }\n",
       "\n",
       "    .dataframe tbody tr th {\n",
       "        vertical-align: top;\n",
       "    }\n",
       "\n",
       "    .dataframe thead th {\n",
       "        text-align: right;\n",
       "    }\n",
       "</style>\n",
       "<table border=\"1\" class=\"dataframe\">\n",
       "  <thead>\n",
       "    <tr style=\"text-align: right;\">\n",
       "      <th></th>\n",
       "      <th>beds</th>\n",
       "      <th>bath</th>\n",
       "      <th>area</th>\n",
       "      <th>address</th>\n",
       "      <th>price</th>\n",
       "      <th>division</th>\n",
       "      <th>rent_per_sqft</th>\n",
       "    </tr>\n",
       "  </thead>\n",
       "  <tbody>\n",
       "  </tbody>\n",
       "</table>\n",
       "</div>"
      ],
      "text/plain": [
       "Empty DataFrame\n",
       "Columns: [beds, bath, area, address, price, division, rent_per_sqft]\n",
       "Index: []"
      ]
     },
     "execution_count": 89,
     "metadata": {},
     "output_type": "execute_result"
    }
   ],
   "source": [
    "df7[df7.bath> df7.beds+2]"
   ]
  },
  {
   "cell_type": "code",
   "execution_count": 90,
   "id": "ce90d9f8-bf9f-4023-8fb4-603364186d54",
   "metadata": {},
   "outputs": [
    {
     "data": {
      "text/html": [
       "<div>\n",
       "<style scoped>\n",
       "    .dataframe tbody tr th:only-of-type {\n",
       "        vertical-align: middle;\n",
       "    }\n",
       "\n",
       "    .dataframe tbody tr th {\n",
       "        vertical-align: top;\n",
       "    }\n",
       "\n",
       "    .dataframe thead th {\n",
       "        text-align: right;\n",
       "    }\n",
       "</style>\n",
       "<table border=\"1\" class=\"dataframe\">\n",
       "  <thead>\n",
       "    <tr style=\"text-align: right;\">\n",
       "      <th></th>\n",
       "      <th>beds</th>\n",
       "      <th>bath</th>\n",
       "      <th>area</th>\n",
       "      <th>address</th>\n",
       "      <th>price</th>\n",
       "    </tr>\n",
       "  </thead>\n",
       "  <tbody>\n",
       "    <tr>\n",
       "      <th>0</th>\n",
       "      <td>2</td>\n",
       "      <td>2</td>\n",
       "      <td>850</td>\n",
       "      <td>10 No. North Kattali Ward, Chattogram</td>\n",
       "      <td>12000</td>\n",
       "    </tr>\n",
       "    <tr>\n",
       "      <th>1</th>\n",
       "      <td>2</td>\n",
       "      <td>2</td>\n",
       "      <td>850</td>\n",
       "      <td>10 No. North Kattali Ward, Chattogram</td>\n",
       "      <td>12000</td>\n",
       "    </tr>\n",
       "  </tbody>\n",
       "</table>\n",
       "</div>"
      ],
      "text/plain": [
       "   beds  bath  area                                address  price\n",
       "0     2     2   850  10 No. North Kattali Ward, Chattogram  12000\n",
       "1     2     2   850  10 No. North Kattali Ward, Chattogram  12000"
      ]
     },
     "execution_count": 90,
     "metadata": {},
     "output_type": "execute_result"
    }
   ],
   "source": [
    "df8 = df7.drop(['rent_per_sqft','division'],axis='columns')\n",
    "df8.head(2)"
   ]
  },
  {
   "cell_type": "code",
   "execution_count": 91,
   "id": "6c02fd5c-fc36-4849-8276-80892d02b628",
   "metadata": {},
   "outputs": [
    {
     "data": {
      "text/plain": [
       "182"
      ]
     },
     "execution_count": 91,
     "metadata": {},
     "output_type": "execute_result"
    }
   ],
   "source": [
    "len(df8.address.unique())"
   ]
  },
  {
   "cell_type": "markdown",
   "id": "123c4e31-8e4d-4aa9-a65f-e37277fdbaa8",
   "metadata": {},
   "source": [
    "𝗠𝗼𝗱𝗲𝗹 𝗺𝗮𝗸𝗶𝗻𝗴"
   ]
  },
  {
   "cell_type": "code",
   "execution_count": 92,
   "id": "acef1ee9-047c-4844-8ef3-9dd2ca561588",
   "metadata": {},
   "outputs": [
    {
     "data": {
      "text/html": [
       "<div>\n",
       "<style scoped>\n",
       "    .dataframe tbody tr th:only-of-type {\n",
       "        vertical-align: middle;\n",
       "    }\n",
       "\n",
       "    .dataframe tbody tr th {\n",
       "        vertical-align: top;\n",
       "    }\n",
       "\n",
       "    .dataframe thead th {\n",
       "        text-align: right;\n",
       "    }\n",
       "</style>\n",
       "<table border=\"1\" class=\"dataframe\">\n",
       "  <thead>\n",
       "    <tr style=\"text-align: right;\">\n",
       "      <th></th>\n",
       "      <th>10 No. North Kattali Ward, Chattogram</th>\n",
       "      <th>11 No. South Kattali Ward, Chattogram</th>\n",
       "      <th>15 No. Bagmoniram Ward, Chattogram</th>\n",
       "      <th>24 No. North Agrabad Ward, Double Mooring, Chattogram</th>\n",
       "      <th>25 No. Rampur Ward, Double Mooring, Chattogram</th>\n",
       "      <th>30 No. East Madarbari Ward, Chattogram</th>\n",
       "      <th>33 No. Firingee Bazaar Ward, Chattogram</th>\n",
       "      <th>4 No Chandgaon Ward, Chattogram</th>\n",
       "      <th>7 No. West Sholoshohor Ward, Chattogram</th>\n",
       "      <th>A-Block Chandgaon R/A, Chandgaon Residential Area, 4 No Chandgaon Ward, Chattogram</th>\n",
       "      <th>...</th>\n",
       "      <th>Uttar Badda, Badda, Dhaka</th>\n",
       "      <th>Uttar Khan, Dhaka</th>\n",
       "      <th>Uttara, Dhaka</th>\n",
       "      <th>West Agargaon, Agargaon, Dhaka</th>\n",
       "      <th>West Dhanmondi and Shangkar, Dhanmondi, Dhaka</th>\n",
       "      <th>West Kazipara, Mirpur, Dhaka</th>\n",
       "      <th>West Khulshi R/A, 9 No. North Pahartali Ward, Chattogram</th>\n",
       "      <th>West Shewrapara, Mirpur, Dhaka</th>\n",
       "      <th>Zakir Hossain Housing Society, South Khulshi, Khulshi, Chattogram</th>\n",
       "      <th>other</th>\n",
       "    </tr>\n",
       "  </thead>\n",
       "  <tbody>\n",
       "    <tr>\n",
       "      <th>0</th>\n",
       "      <td>True</td>\n",
       "      <td>False</td>\n",
       "      <td>False</td>\n",
       "      <td>False</td>\n",
       "      <td>False</td>\n",
       "      <td>False</td>\n",
       "      <td>False</td>\n",
       "      <td>False</td>\n",
       "      <td>False</td>\n",
       "      <td>False</td>\n",
       "      <td>...</td>\n",
       "      <td>False</td>\n",
       "      <td>False</td>\n",
       "      <td>False</td>\n",
       "      <td>False</td>\n",
       "      <td>False</td>\n",
       "      <td>False</td>\n",
       "      <td>False</td>\n",
       "      <td>False</td>\n",
       "      <td>False</td>\n",
       "      <td>False</td>\n",
       "    </tr>\n",
       "    <tr>\n",
       "      <th>1</th>\n",
       "      <td>True</td>\n",
       "      <td>False</td>\n",
       "      <td>False</td>\n",
       "      <td>False</td>\n",
       "      <td>False</td>\n",
       "      <td>False</td>\n",
       "      <td>False</td>\n",
       "      <td>False</td>\n",
       "      <td>False</td>\n",
       "      <td>False</td>\n",
       "      <td>...</td>\n",
       "      <td>False</td>\n",
       "      <td>False</td>\n",
       "      <td>False</td>\n",
       "      <td>False</td>\n",
       "      <td>False</td>\n",
       "      <td>False</td>\n",
       "      <td>False</td>\n",
       "      <td>False</td>\n",
       "      <td>False</td>\n",
       "      <td>False</td>\n",
       "    </tr>\n",
       "    <tr>\n",
       "      <th>2</th>\n",
       "      <td>True</td>\n",
       "      <td>False</td>\n",
       "      <td>False</td>\n",
       "      <td>False</td>\n",
       "      <td>False</td>\n",
       "      <td>False</td>\n",
       "      <td>False</td>\n",
       "      <td>False</td>\n",
       "      <td>False</td>\n",
       "      <td>False</td>\n",
       "      <td>...</td>\n",
       "      <td>False</td>\n",
       "      <td>False</td>\n",
       "      <td>False</td>\n",
       "      <td>False</td>\n",
       "      <td>False</td>\n",
       "      <td>False</td>\n",
       "      <td>False</td>\n",
       "      <td>False</td>\n",
       "      <td>False</td>\n",
       "      <td>False</td>\n",
       "    </tr>\n",
       "  </tbody>\n",
       "</table>\n",
       "<p>3 rows × 182 columns</p>\n",
       "</div>"
      ],
      "text/plain": [
       "   10 No. North Kattali Ward, Chattogram  \\\n",
       "0                                   True   \n",
       "1                                   True   \n",
       "2                                   True   \n",
       "\n",
       "   11 No. South Kattali Ward, Chattogram  15 No. Bagmoniram Ward, Chattogram  \\\n",
       "0                                  False                               False   \n",
       "1                                  False                               False   \n",
       "2                                  False                               False   \n",
       "\n",
       "   24 No. North Agrabad Ward, Double Mooring, Chattogram  \\\n",
       "0                                              False       \n",
       "1                                              False       \n",
       "2                                              False       \n",
       "\n",
       "   25 No. Rampur Ward, Double Mooring, Chattogram  \\\n",
       "0                                           False   \n",
       "1                                           False   \n",
       "2                                           False   \n",
       "\n",
       "   30 No. East Madarbari Ward, Chattogram  \\\n",
       "0                                   False   \n",
       "1                                   False   \n",
       "2                                   False   \n",
       "\n",
       "   33 No. Firingee Bazaar Ward, Chattogram  4 No Chandgaon Ward, Chattogram  \\\n",
       "0                                    False                            False   \n",
       "1                                    False                            False   \n",
       "2                                    False                            False   \n",
       "\n",
       "   7 No. West Sholoshohor Ward, Chattogram  \\\n",
       "0                                    False   \n",
       "1                                    False   \n",
       "2                                    False   \n",
       "\n",
       "   A-Block Chandgaon R/A, Chandgaon Residential Area, 4 No Chandgaon Ward, Chattogram  \\\n",
       "0                                              False                                    \n",
       "1                                              False                                    \n",
       "2                                              False                                    \n",
       "\n",
       "   ...  Uttar Badda, Badda, Dhaka  Uttar Khan, Dhaka  Uttara, Dhaka  \\\n",
       "0  ...                      False              False          False   \n",
       "1  ...                      False              False          False   \n",
       "2  ...                      False              False          False   \n",
       "\n",
       "   West Agargaon, Agargaon, Dhaka  \\\n",
       "0                           False   \n",
       "1                           False   \n",
       "2                           False   \n",
       "\n",
       "   West Dhanmondi and Shangkar, Dhanmondi, Dhaka  \\\n",
       "0                                          False   \n",
       "1                                          False   \n",
       "2                                          False   \n",
       "\n",
       "   West Kazipara, Mirpur, Dhaka  \\\n",
       "0                         False   \n",
       "1                         False   \n",
       "2                         False   \n",
       "\n",
       "   West Khulshi R/A, 9 No. North Pahartali Ward, Chattogram  \\\n",
       "0                                              False          \n",
       "1                                              False          \n",
       "2                                              False          \n",
       "\n",
       "   West Shewrapara, Mirpur, Dhaka  \\\n",
       "0                           False   \n",
       "1                           False   \n",
       "2                           False   \n",
       "\n",
       "   Zakir Hossain Housing Society, South Khulshi, Khulshi, Chattogram  other  \n",
       "0                                              False                  False  \n",
       "1                                              False                  False  \n",
       "2                                              False                  False  \n",
       "\n",
       "[3 rows x 182 columns]"
      ]
     },
     "execution_count": 92,
     "metadata": {},
     "output_type": "execute_result"
    }
   ],
   "source": [
    "dummies =pd.get_dummies(df8.address)\n",
    "dummies.head(3)"
   ]
  },
  {
   "cell_type": "code",
   "execution_count": 93,
   "id": "2efd0476-de27-48ad-bfec-3a3b2685e31b",
   "metadata": {},
   "outputs": [],
   "source": [
    "df9 = pd.concat([df8,dummies.drop('other',axis = 'columns')],axis = 'columns')"
   ]
  },
  {
   "cell_type": "code",
   "execution_count": 94,
   "id": "0cb4d651-b176-4758-83f3-12562d8551bf",
   "metadata": {},
   "outputs": [
    {
     "data": {
      "text/html": [
       "<div>\n",
       "<style scoped>\n",
       "    .dataframe tbody tr th:only-of-type {\n",
       "        vertical-align: middle;\n",
       "    }\n",
       "\n",
       "    .dataframe tbody tr th {\n",
       "        vertical-align: top;\n",
       "    }\n",
       "\n",
       "    .dataframe thead th {\n",
       "        text-align: right;\n",
       "    }\n",
       "</style>\n",
       "<table border=\"1\" class=\"dataframe\">\n",
       "  <thead>\n",
       "    <tr style=\"text-align: right;\">\n",
       "      <th></th>\n",
       "      <th>beds</th>\n",
       "      <th>bath</th>\n",
       "      <th>area</th>\n",
       "      <th>address</th>\n",
       "      <th>price</th>\n",
       "      <th>10 No. North Kattali Ward, Chattogram</th>\n",
       "      <th>11 No. South Kattali Ward, Chattogram</th>\n",
       "      <th>15 No. Bagmoniram Ward, Chattogram</th>\n",
       "      <th>24 No. North Agrabad Ward, Double Mooring, Chattogram</th>\n",
       "      <th>25 No. Rampur Ward, Double Mooring, Chattogram</th>\n",
       "      <th>...</th>\n",
       "      <th>Turag, Dhaka</th>\n",
       "      <th>Uttar Badda, Badda, Dhaka</th>\n",
       "      <th>Uttar Khan, Dhaka</th>\n",
       "      <th>Uttara, Dhaka</th>\n",
       "      <th>West Agargaon, Agargaon, Dhaka</th>\n",
       "      <th>West Dhanmondi and Shangkar, Dhanmondi, Dhaka</th>\n",
       "      <th>West Kazipara, Mirpur, Dhaka</th>\n",
       "      <th>West Khulshi R/A, 9 No. North Pahartali Ward, Chattogram</th>\n",
       "      <th>West Shewrapara, Mirpur, Dhaka</th>\n",
       "      <th>Zakir Hossain Housing Society, South Khulshi, Khulshi, Chattogram</th>\n",
       "    </tr>\n",
       "  </thead>\n",
       "  <tbody>\n",
       "    <tr>\n",
       "      <th>0</th>\n",
       "      <td>2</td>\n",
       "      <td>2</td>\n",
       "      <td>850</td>\n",
       "      <td>10 No. North Kattali Ward, Chattogram</td>\n",
       "      <td>12000</td>\n",
       "      <td>True</td>\n",
       "      <td>False</td>\n",
       "      <td>False</td>\n",
       "      <td>False</td>\n",
       "      <td>False</td>\n",
       "      <td>...</td>\n",
       "      <td>False</td>\n",
       "      <td>False</td>\n",
       "      <td>False</td>\n",
       "      <td>False</td>\n",
       "      <td>False</td>\n",
       "      <td>False</td>\n",
       "      <td>False</td>\n",
       "      <td>False</td>\n",
       "      <td>False</td>\n",
       "      <td>False</td>\n",
       "    </tr>\n",
       "    <tr>\n",
       "      <th>1</th>\n",
       "      <td>2</td>\n",
       "      <td>2</td>\n",
       "      <td>850</td>\n",
       "      <td>10 No. North Kattali Ward, Chattogram</td>\n",
       "      <td>12000</td>\n",
       "      <td>True</td>\n",
       "      <td>False</td>\n",
       "      <td>False</td>\n",
       "      <td>False</td>\n",
       "      <td>False</td>\n",
       "      <td>...</td>\n",
       "      <td>False</td>\n",
       "      <td>False</td>\n",
       "      <td>False</td>\n",
       "      <td>False</td>\n",
       "      <td>False</td>\n",
       "      <td>False</td>\n",
       "      <td>False</td>\n",
       "      <td>False</td>\n",
       "      <td>False</td>\n",
       "      <td>False</td>\n",
       "    </tr>\n",
       "  </tbody>\n",
       "</table>\n",
       "<p>2 rows × 186 columns</p>\n",
       "</div>"
      ],
      "text/plain": [
       "   beds  bath  area                                address  price  \\\n",
       "0     2     2   850  10 No. North Kattali Ward, Chattogram  12000   \n",
       "1     2     2   850  10 No. North Kattali Ward, Chattogram  12000   \n",
       "\n",
       "   10 No. North Kattali Ward, Chattogram  \\\n",
       "0                                   True   \n",
       "1                                   True   \n",
       "\n",
       "   11 No. South Kattali Ward, Chattogram  15 No. Bagmoniram Ward, Chattogram  \\\n",
       "0                                  False                               False   \n",
       "1                                  False                               False   \n",
       "\n",
       "   24 No. North Agrabad Ward, Double Mooring, Chattogram  \\\n",
       "0                                              False       \n",
       "1                                              False       \n",
       "\n",
       "   25 No. Rampur Ward, Double Mooring, Chattogram  ...  Turag, Dhaka  \\\n",
       "0                                           False  ...         False   \n",
       "1                                           False  ...         False   \n",
       "\n",
       "   Uttar Badda, Badda, Dhaka  Uttar Khan, Dhaka  Uttara, Dhaka  \\\n",
       "0                      False              False          False   \n",
       "1                      False              False          False   \n",
       "\n",
       "   West Agargaon, Agargaon, Dhaka  \\\n",
       "0                           False   \n",
       "1                           False   \n",
       "\n",
       "   West Dhanmondi and Shangkar, Dhanmondi, Dhaka  \\\n",
       "0                                          False   \n",
       "1                                          False   \n",
       "\n",
       "   West Kazipara, Mirpur, Dhaka  \\\n",
       "0                         False   \n",
       "1                         False   \n",
       "\n",
       "   West Khulshi R/A, 9 No. North Pahartali Ward, Chattogram  \\\n",
       "0                                              False          \n",
       "1                                              False          \n",
       "\n",
       "   West Shewrapara, Mirpur, Dhaka  \\\n",
       "0                           False   \n",
       "1                           False   \n",
       "\n",
       "   Zakir Hossain Housing Society, South Khulshi, Khulshi, Chattogram  \n",
       "0                                              False                  \n",
       "1                                              False                  \n",
       "\n",
       "[2 rows x 186 columns]"
      ]
     },
     "execution_count": 94,
     "metadata": {},
     "output_type": "execute_result"
    }
   ],
   "source": [
    "df9.head(2)"
   ]
  },
  {
   "cell_type": "code",
   "execution_count": 95,
   "id": "731d49bc-32de-41a2-9e06-993fa1bb710b",
   "metadata": {
    "scrolled": true
   },
   "outputs": [
    {
     "data": {
      "text/html": [
       "<div>\n",
       "<style scoped>\n",
       "    .dataframe tbody tr th:only-of-type {\n",
       "        vertical-align: middle;\n",
       "    }\n",
       "\n",
       "    .dataframe tbody tr th {\n",
       "        vertical-align: top;\n",
       "    }\n",
       "\n",
       "    .dataframe thead th {\n",
       "        text-align: right;\n",
       "    }\n",
       "</style>\n",
       "<table border=\"1\" class=\"dataframe\">\n",
       "  <thead>\n",
       "    <tr style=\"text-align: right;\">\n",
       "      <th></th>\n",
       "      <th>beds</th>\n",
       "      <th>bath</th>\n",
       "      <th>area</th>\n",
       "      <th>price</th>\n",
       "      <th>10 No. North Kattali Ward, Chattogram</th>\n",
       "      <th>11 No. South Kattali Ward, Chattogram</th>\n",
       "      <th>15 No. Bagmoniram Ward, Chattogram</th>\n",
       "      <th>24 No. North Agrabad Ward, Double Mooring, Chattogram</th>\n",
       "      <th>25 No. Rampur Ward, Double Mooring, Chattogram</th>\n",
       "      <th>30 No. East Madarbari Ward, Chattogram</th>\n",
       "      <th>...</th>\n",
       "      <th>Turag, Dhaka</th>\n",
       "      <th>Uttar Badda, Badda, Dhaka</th>\n",
       "      <th>Uttar Khan, Dhaka</th>\n",
       "      <th>Uttara, Dhaka</th>\n",
       "      <th>West Agargaon, Agargaon, Dhaka</th>\n",
       "      <th>West Dhanmondi and Shangkar, Dhanmondi, Dhaka</th>\n",
       "      <th>West Kazipara, Mirpur, Dhaka</th>\n",
       "      <th>West Khulshi R/A, 9 No. North Pahartali Ward, Chattogram</th>\n",
       "      <th>West Shewrapara, Mirpur, Dhaka</th>\n",
       "      <th>Zakir Hossain Housing Society, South Khulshi, Khulshi, Chattogram</th>\n",
       "    </tr>\n",
       "  </thead>\n",
       "  <tbody>\n",
       "    <tr>\n",
       "      <th>0</th>\n",
       "      <td>2</td>\n",
       "      <td>2</td>\n",
       "      <td>850</td>\n",
       "      <td>12000</td>\n",
       "      <td>True</td>\n",
       "      <td>False</td>\n",
       "      <td>False</td>\n",
       "      <td>False</td>\n",
       "      <td>False</td>\n",
       "      <td>False</td>\n",
       "      <td>...</td>\n",
       "      <td>False</td>\n",
       "      <td>False</td>\n",
       "      <td>False</td>\n",
       "      <td>False</td>\n",
       "      <td>False</td>\n",
       "      <td>False</td>\n",
       "      <td>False</td>\n",
       "      <td>False</td>\n",
       "      <td>False</td>\n",
       "      <td>False</td>\n",
       "    </tr>\n",
       "    <tr>\n",
       "      <th>1</th>\n",
       "      <td>2</td>\n",
       "      <td>2</td>\n",
       "      <td>850</td>\n",
       "      <td>12000</td>\n",
       "      <td>True</td>\n",
       "      <td>False</td>\n",
       "      <td>False</td>\n",
       "      <td>False</td>\n",
       "      <td>False</td>\n",
       "      <td>False</td>\n",
       "      <td>...</td>\n",
       "      <td>False</td>\n",
       "      <td>False</td>\n",
       "      <td>False</td>\n",
       "      <td>False</td>\n",
       "      <td>False</td>\n",
       "      <td>False</td>\n",
       "      <td>False</td>\n",
       "      <td>False</td>\n",
       "      <td>False</td>\n",
       "      <td>False</td>\n",
       "    </tr>\n",
       "  </tbody>\n",
       "</table>\n",
       "<p>2 rows × 185 columns</p>\n",
       "</div>"
      ],
      "text/plain": [
       "   beds  bath  area  price  10 No. North Kattali Ward, Chattogram  \\\n",
       "0     2     2   850  12000                                   True   \n",
       "1     2     2   850  12000                                   True   \n",
       "\n",
       "   11 No. South Kattali Ward, Chattogram  15 No. Bagmoniram Ward, Chattogram  \\\n",
       "0                                  False                               False   \n",
       "1                                  False                               False   \n",
       "\n",
       "   24 No. North Agrabad Ward, Double Mooring, Chattogram  \\\n",
       "0                                              False       \n",
       "1                                              False       \n",
       "\n",
       "   25 No. Rampur Ward, Double Mooring, Chattogram  \\\n",
       "0                                           False   \n",
       "1                                           False   \n",
       "\n",
       "   30 No. East Madarbari Ward, Chattogram  ...  Turag, Dhaka  \\\n",
       "0                                   False  ...         False   \n",
       "1                                   False  ...         False   \n",
       "\n",
       "   Uttar Badda, Badda, Dhaka  Uttar Khan, Dhaka  Uttara, Dhaka  \\\n",
       "0                      False              False          False   \n",
       "1                      False              False          False   \n",
       "\n",
       "   West Agargaon, Agargaon, Dhaka  \\\n",
       "0                           False   \n",
       "1                           False   \n",
       "\n",
       "   West Dhanmondi and Shangkar, Dhanmondi, Dhaka  \\\n",
       "0                                          False   \n",
       "1                                          False   \n",
       "\n",
       "   West Kazipara, Mirpur, Dhaka  \\\n",
       "0                         False   \n",
       "1                         False   \n",
       "\n",
       "   West Khulshi R/A, 9 No. North Pahartali Ward, Chattogram  \\\n",
       "0                                              False          \n",
       "1                                              False          \n",
       "\n",
       "   West Shewrapara, Mirpur, Dhaka  \\\n",
       "0                           False   \n",
       "1                           False   \n",
       "\n",
       "   Zakir Hossain Housing Society, South Khulshi, Khulshi, Chattogram  \n",
       "0                                              False                  \n",
       "1                                              False                  \n",
       "\n",
       "[2 rows x 185 columns]"
      ]
     },
     "execution_count": 95,
     "metadata": {},
     "output_type": "execute_result"
    }
   ],
   "source": [
    "df10 = df9.drop('address',axis ='columns')\n",
    "df10.head(2)"
   ]
  },
  {
   "cell_type": "code",
   "execution_count": 96,
   "id": "9eb52730-212d-4f26-954d-ed1fdd4672a6",
   "metadata": {},
   "outputs": [
    {
     "data": {
      "text/plain": [
       "(4339, 185)"
      ]
     },
     "execution_count": 96,
     "metadata": {},
     "output_type": "execute_result"
    }
   ],
   "source": [
    "df10.shape"
   ]
  },
  {
   "cell_type": "code",
   "execution_count": 97,
   "id": "0d04fe28-2006-4923-aee1-78c3492bc476",
   "metadata": {},
   "outputs": [
    {
     "data": {
      "text/html": [
       "<div>\n",
       "<style scoped>\n",
       "    .dataframe tbody tr th:only-of-type {\n",
       "        vertical-align: middle;\n",
       "    }\n",
       "\n",
       "    .dataframe tbody tr th {\n",
       "        vertical-align: top;\n",
       "    }\n",
       "\n",
       "    .dataframe thead th {\n",
       "        text-align: right;\n",
       "    }\n",
       "</style>\n",
       "<table border=\"1\" class=\"dataframe\">\n",
       "  <thead>\n",
       "    <tr style=\"text-align: right;\">\n",
       "      <th></th>\n",
       "      <th>beds</th>\n",
       "      <th>bath</th>\n",
       "      <th>area</th>\n",
       "      <th>10 No. North Kattali Ward, Chattogram</th>\n",
       "      <th>11 No. South Kattali Ward, Chattogram</th>\n",
       "      <th>15 No. Bagmoniram Ward, Chattogram</th>\n",
       "      <th>24 No. North Agrabad Ward, Double Mooring, Chattogram</th>\n",
       "      <th>25 No. Rampur Ward, Double Mooring, Chattogram</th>\n",
       "      <th>30 No. East Madarbari Ward, Chattogram</th>\n",
       "      <th>33 No. Firingee Bazaar Ward, Chattogram</th>\n",
       "      <th>...</th>\n",
       "      <th>Turag, Dhaka</th>\n",
       "      <th>Uttar Badda, Badda, Dhaka</th>\n",
       "      <th>Uttar Khan, Dhaka</th>\n",
       "      <th>Uttara, Dhaka</th>\n",
       "      <th>West Agargaon, Agargaon, Dhaka</th>\n",
       "      <th>West Dhanmondi and Shangkar, Dhanmondi, Dhaka</th>\n",
       "      <th>West Kazipara, Mirpur, Dhaka</th>\n",
       "      <th>West Khulshi R/A, 9 No. North Pahartali Ward, Chattogram</th>\n",
       "      <th>West Shewrapara, Mirpur, Dhaka</th>\n",
       "      <th>Zakir Hossain Housing Society, South Khulshi, Khulshi, Chattogram</th>\n",
       "    </tr>\n",
       "  </thead>\n",
       "  <tbody>\n",
       "    <tr>\n",
       "      <th>0</th>\n",
       "      <td>2</td>\n",
       "      <td>2</td>\n",
       "      <td>850</td>\n",
       "      <td>True</td>\n",
       "      <td>False</td>\n",
       "      <td>False</td>\n",
       "      <td>False</td>\n",
       "      <td>False</td>\n",
       "      <td>False</td>\n",
       "      <td>False</td>\n",
       "      <td>...</td>\n",
       "      <td>False</td>\n",
       "      <td>False</td>\n",
       "      <td>False</td>\n",
       "      <td>False</td>\n",
       "      <td>False</td>\n",
       "      <td>False</td>\n",
       "      <td>False</td>\n",
       "      <td>False</td>\n",
       "      <td>False</td>\n",
       "      <td>False</td>\n",
       "    </tr>\n",
       "    <tr>\n",
       "      <th>1</th>\n",
       "      <td>2</td>\n",
       "      <td>2</td>\n",
       "      <td>850</td>\n",
       "      <td>True</td>\n",
       "      <td>False</td>\n",
       "      <td>False</td>\n",
       "      <td>False</td>\n",
       "      <td>False</td>\n",
       "      <td>False</td>\n",
       "      <td>False</td>\n",
       "      <td>...</td>\n",
       "      <td>False</td>\n",
       "      <td>False</td>\n",
       "      <td>False</td>\n",
       "      <td>False</td>\n",
       "      <td>False</td>\n",
       "      <td>False</td>\n",
       "      <td>False</td>\n",
       "      <td>False</td>\n",
       "      <td>False</td>\n",
       "      <td>False</td>\n",
       "    </tr>\n",
       "  </tbody>\n",
       "</table>\n",
       "<p>2 rows × 184 columns</p>\n",
       "</div>"
      ],
      "text/plain": [
       "   beds  bath  area  10 No. North Kattali Ward, Chattogram  \\\n",
       "0     2     2   850                                   True   \n",
       "1     2     2   850                                   True   \n",
       "\n",
       "   11 No. South Kattali Ward, Chattogram  15 No. Bagmoniram Ward, Chattogram  \\\n",
       "0                                  False                               False   \n",
       "1                                  False                               False   \n",
       "\n",
       "   24 No. North Agrabad Ward, Double Mooring, Chattogram  \\\n",
       "0                                              False       \n",
       "1                                              False       \n",
       "\n",
       "   25 No. Rampur Ward, Double Mooring, Chattogram  \\\n",
       "0                                           False   \n",
       "1                                           False   \n",
       "\n",
       "   30 No. East Madarbari Ward, Chattogram  \\\n",
       "0                                   False   \n",
       "1                                   False   \n",
       "\n",
       "   33 No. Firingee Bazaar Ward, Chattogram  ...  Turag, Dhaka  \\\n",
       "0                                    False  ...         False   \n",
       "1                                    False  ...         False   \n",
       "\n",
       "   Uttar Badda, Badda, Dhaka  Uttar Khan, Dhaka  Uttara, Dhaka  \\\n",
       "0                      False              False          False   \n",
       "1                      False              False          False   \n",
       "\n",
       "   West Agargaon, Agargaon, Dhaka  \\\n",
       "0                           False   \n",
       "1                           False   \n",
       "\n",
       "   West Dhanmondi and Shangkar, Dhanmondi, Dhaka  \\\n",
       "0                                          False   \n",
       "1                                          False   \n",
       "\n",
       "   West Kazipara, Mirpur, Dhaka  \\\n",
       "0                         False   \n",
       "1                         False   \n",
       "\n",
       "   West Khulshi R/A, 9 No. North Pahartali Ward, Chattogram  \\\n",
       "0                                              False          \n",
       "1                                              False          \n",
       "\n",
       "   West Shewrapara, Mirpur, Dhaka  \\\n",
       "0                           False   \n",
       "1                           False   \n",
       "\n",
       "   Zakir Hossain Housing Society, South Khulshi, Khulshi, Chattogram  \n",
       "0                                              False                  \n",
       "1                                              False                  \n",
       "\n",
       "[2 rows x 184 columns]"
      ]
     },
     "execution_count": 97,
     "metadata": {},
     "output_type": "execute_result"
    }
   ],
   "source": [
    "X = df10.drop('price',axis = 'columns')\n",
    "X.head(2)"
   ]
  },
  {
   "cell_type": "code",
   "execution_count": 98,
   "id": "51dbf886-2cb8-48e7-91b1-c49668ddfe69",
   "metadata": {},
   "outputs": [
    {
     "data": {
      "text/plain": [
       "0    12000\n",
       "1    12000\n",
       "2    12000\n",
       "Name: price, dtype: int64"
      ]
     },
     "execution_count": 98,
     "metadata": {},
     "output_type": "execute_result"
    }
   ],
   "source": [
    "y = df10.price\n",
    "y.head(3)"
   ]
  },
  {
   "cell_type": "markdown",
   "id": "cded1a4b-2c4b-4126-94a8-548602d437b0",
   "metadata": {},
   "source": [
    "𝐑𝐚𝐧𝐝𝐨𝐦 𝐑𝐞𝐠𝐫𝐚𝐬𝐬𝐨𝐫 𝐧𝐞𝐞𝐝 𝐦𝐨𝐫𝐞 𝐭𝐮𝐧𝐢𝐧𝐠"
   ]
  },
  {
   "cell_type": "code",
   "execution_count": 115,
   "id": "967eaee0-c045-4e80-aa3a-5f64ad35314f",
   "metadata": {},
   "outputs": [
    {
     "name": "stdout",
     "output_type": "stream",
     "text": [
      "R²: 0.57947787086352\n"
     ]
    }
   ],
   "source": [
    "from sklearn.model_selection import train_test_split\n",
    "from sklearn.ensemble import RandomForestRegressor\n",
    "\n",
    "X_train, X_test, y_train, y_test = train_test_split(X, y, test_size=0.2, random_state=42)\n",
    "\n",
    "final_model = RandomForestRegressor(n_estimators=150, max_depth=None, random_state=42)\n",
    "final_model.fit(X_train, y_train)\n",
    "\n",
    "print(\"R²:\", rf.score(X_test, y_test))\n"
   ]
  },
  {
   "cell_type": "code",
   "execution_count": 114,
   "id": "001fe094-08ee-40ff-b79e-7f69e586d982",
   "metadata": {},
   "outputs": [
    {
     "name": "stdout",
     "output_type": "stream",
     "text": [
      "Best score: 0.9354545189738672\n",
      "Best params: {'max_depth': None, 'n_estimators': 150}\n"
     ]
    }
   ],
   "source": [
    "from sklearn.model_selection import GridSearchCV\n",
    "\n",
    "params = {\n",
    "    'n_estimators': [50, 100, 150],\n",
    "    'max_depth': [None, 30, 50]\n",
    "}\n",
    "\n",
    "grid = GridSearchCV(RandomForestRegressor(random_state=42), params, cv=5)\n",
    "grid.fit(X_train, y_train)\n",
    "print(\"Best score:\", grid.best_score_)\n",
    "print(\"Best params:\", grid.best_params_)\n",
    "\n"
   ]
  },
  {
   "cell_type": "markdown",
   "id": "a8b49c9d-b481-4159-8273-7c383cb72405",
   "metadata": {},
   "source": [
    "𝐋𝐢𝐧𝐞𝐚𝐫 𝐑𝐞𝐠𝐫𝐞𝐬𝐬𝐢𝐨𝐧 𝐢𝐬 𝐟𝐢𝐧𝐞"
   ]
  },
  {
   "cell_type": "code",
   "execution_count": 101,
   "id": "f770d385-49f2-4b95-a9eb-20070ed0d6b4",
   "metadata": {},
   "outputs": [],
   "source": [
    "from sklearn.model_selection import train_test_split\n",
    "X_train,X_test,y_train,y_test = train_test_split(X,y,test_size = .3 , random_state = 10)"
   ]
  },
  {
   "cell_type": "code",
   "execution_count": 102,
   "id": "b87d2484-336d-4bcb-b484-225bf2a5be5b",
   "metadata": {},
   "outputs": [
    {
     "data": {
      "text/plain": [
       "0.8185021194289819"
      ]
     },
     "execution_count": 102,
     "metadata": {},
     "output_type": "execute_result"
    }
   ],
   "source": [
    "from sklearn.linear_model import LinearRegression\n",
    "lr_clf = LinearRegression()\n",
    "lr_clf.fit(X_train,y_train)\n",
    "lr_clf.score(X_test,y_test)"
   ]
  },
  {
   "cell_type": "code",
   "execution_count": 110,
   "id": "c2c0a35e-d120-49d4-8a95-68b6df4c62f6",
   "metadata": {},
   "outputs": [
    {
     "data": {
      "text/plain": [
       "array([0.7849209 , 0.92163857, 0.90993778, 0.76888351, 0.88041727])"
      ]
     },
     "execution_count": 110,
     "metadata": {},
     "output_type": "execute_result"
    }
   ],
   "source": [
    "from sklearn.model_selection import ShuffleSplit\n",
    "from sklearn.model_selection import cross_val_score\n",
    "\n",
    "cv = ShuffleSplit(n_splits = 5, test_size = .3, random_state = 0)\n",
    "\n",
    "cross_val_score(LinearRegression(),X,y, cv = cv)"
   ]
  },
  {
   "cell_type": "markdown",
   "id": "edc0b143-6fb7-4b70-81fa-4f315496d578",
   "metadata": {},
   "source": [
    "𝗳𝗼𝗿 𝗮𝗰𝘁𝘂𝗮𝗹 𝘃𝘀 𝗽𝗿𝗲𝗱𝗶𝗰𝘁𝗲𝗱"
   ]
  },
  {
   "cell_type": "code",
   "execution_count": 104,
   "id": "35d89168-4948-4594-849d-f9b8f1f02802",
   "metadata": {
    "collapsed": true,
    "jupyter": {
     "outputs_hidden": true,
     "source_hidden": true
    }
   },
   "outputs": [
    {
     "data": {
      "image/png": "[encoded data removed]",
      "text/plain": [
       "<Figure size 1000x600 with 1 Axes>"
      ]
     },
     "metadata": {},
     "output_type": "display_data"
    },
    {
     "data": {
      "image/png": "[encoded data removed]",
      "text/plain": [
       "<Figure size 1000x600 with 1 Axes>"
      ]
     },
     "metadata": {},
     "output_type": "display_data"
    },
    {
     "data": {
      "text/plain": [
       "(5635.042922921931, 6918.773484833656, 0.9040270989955902)"
      ]
     },
     "execution_count": 104,
     "metadata": {},
     "output_type": "execute_result"
    }
   ],
   "source": [
    "from sklearn.linear_model import LinearRegression\n",
    "from sklearn.metrics import mean_absolute_error, mean_squared_error, r2_score\n",
    "import matplotlib.pyplot as plt\n",
    "import numpy as np\n",
    "\n",
    "# Simulate predicted and actual values based on your metrics for demo purposes\n",
    "# Replace y_test and y_pred with actual data in real use\n",
    "np.random.seed(42)\n",
    "y_test = np.random.randint(10000, 80000, size=100)\n",
    "y_pred = y_test * 0.9 + np.random.normal(0, 5000, size=100)  # mimic 0.78 R2-like behavior\n",
    "\n",
    "# Calculate metrics\n",
    "mae = mean_absolute_error(y_test, y_pred)\n",
    "rmse = np.sqrt(mean_squared_error(y_test, y_pred))\n",
    "r2 = r2_score(y_test, y_pred)\n",
    "\n",
    "# Plot: Predictions vs Actual\n",
    "plt.figure(figsize=(10, 6))\n",
    "plt.scatter(y_test, y_pred, color='blue', alpha=0.6)\n",
    "plt.plot([min(y_test), max(y_test)], [min(y_test), max(y_test)], color='red', linestyle='--')\n",
    "plt.title('Predicted vs Actual Prices')\n",
    "plt.xlabel('Actual Price')\n",
    "plt.ylabel('Predicted Price')\n",
    "plt.grid(True)\n",
    "plt.tight_layout()\n",
    "plt.show()\n",
    "\n",
    "# Plot: Residuals\n",
    "residuals = y_test - y_pred\n",
    "plt.figure(figsize=(10, 6))\n",
    "plt.scatter(y_pred, residuals, alpha=0.6)\n",
    "plt.axhline(y=0, color='red', linestyle='--')\n",
    "plt.title('Residual Plot')\n",
    "plt.xlabel('Predicted Price')\n",
    "plt.ylabel('Residuals (Actual - Predicted)')\n",
    "plt.grid(True)\n",
    "plt.tight_layout()\n",
    "plt.show()\n",
    "\n",
    "mae, rmse, r2\n"
   ]
  },
  {
   "cell_type": "markdown",
   "id": "370106d5-b5b8-466a-8971-4d523bad3bc5",
   "metadata": {},
   "source": [
    "𝐃𝐢𝐟𝐟𝐞𝐫𝐞𝐧𝐭 𝐑𝐞𝐠𝐫𝐞𝐬𝐬𝐢𝐨𝐧 𝐌𝐨𝐝𝐞𝐥𝐬 𝐟𝐨𝐫 𝐭𝐞𝐬𝐭𝐢𝐧𝐠"
   ]
  },
  {
   "cell_type": "code",
   "execution_count": 130,
   "id": "c84284da-7ab2-429b-9f35-7fa08d70efd8",
   "metadata": {},
   "outputs": [
    {
     "data": {
      "text/html": [
       "<div>\n",
       "<style scoped>\n",
       "    .dataframe tbody tr th:only-of-type {\n",
       "        vertical-align: middle;\n",
       "    }\n",
       "\n",
       "    .dataframe tbody tr th {\n",
       "        vertical-align: top;\n",
       "    }\n",
       "\n",
       "    .dataframe thead th {\n",
       "        text-align: right;\n",
       "    }\n",
       "</style>\n",
       "<table border=\"1\" class=\"dataframe\">\n",
       "  <thead>\n",
       "    <tr style=\"text-align: right;\">\n",
       "      <th></th>\n",
       "      <th>model</th>\n",
       "      <th>best_score</th>\n",
       "      <th>best_params</th>\n",
       "    </tr>\n",
       "  </thead>\n",
       "  <tbody>\n",
       "    <tr>\n",
       "      <th>0</th>\n",
       "      <td>random_forest</td>\n",
       "      <td>0.742345</td>\n",
       "      <td>{'max_depth': 10, 'n_estimators': 10}</td>\n",
       "    </tr>\n",
       "    <tr>\n",
       "      <th>1</th>\n",
       "      <td>linear_regression</td>\n",
       "      <td>0.860619</td>\n",
       "      <td>{'fit_intercept': False, 'positive': False}</td>\n",
       "    </tr>\n",
       "    <tr>\n",
       "      <th>2</th>\n",
       "      <td>lasso</td>\n",
       "      <td>0.841953</td>\n",
       "      <td>{'alpha': 2, 'selection': 'random'}</td>\n",
       "    </tr>\n",
       "    <tr>\n",
       "      <th>3</th>\n",
       "      <td>decision_tree</td>\n",
       "      <td>0.602535</td>\n",
       "      <td>{'criterion': 'squared_error', 'splitter': 'ra...</td>\n",
       "    </tr>\n",
       "  </tbody>\n",
       "</table>\n",
       "</div>"
      ],
      "text/plain": [
       "               model  best_score  \\\n",
       "0      random_forest    0.742345   \n",
       "1  linear_regression    0.860619   \n",
       "2              lasso    0.841953   \n",
       "3      decision_tree    0.602535   \n",
       "\n",
       "                                         best_params  \n",
       "0              {'max_depth': 10, 'n_estimators': 10}  \n",
       "1        {'fit_intercept': False, 'positive': False}  \n",
       "2                {'alpha': 2, 'selection': 'random'}  \n",
       "3  {'criterion': 'squared_error', 'splitter': 'ra...  "
      ]
     },
     "execution_count": 130,
     "metadata": {},
     "output_type": "execute_result"
    }
   ],
   "source": [
    "from sklearn.model_selection import GridSearchCV, ShuffleSplit\n",
    "from sklearn.linear_model import LinearRegression, Lasso\n",
    "from sklearn.tree import DecisionTreeRegressor\n",
    "from sklearn.ensemble import RandomForestRegressor\n",
    "import pandas as pd\n",
    "\n",
    "def find_best_model_using_gridsearchcv(X, y):\n",
    "    algos = {\n",
    "        'random_forest': {\n",
    "        'model': RandomForestRegressor(),\n",
    "        'params': {\n",
    "            'n_estimators': [10, 50, 100,150],\n",
    "            'max_depth': [None, 10, 20,30]\n",
    "            }\n",
    "        },\n",
    "        'linear_regression': {\n",
    "            'model': LinearRegression(),\n",
    "            'params': {\n",
    "                'fit_intercept': [True, False],          \n",
    "                'positive': [True, False]                \n",
    "            }\n",
    "        },\n",
    "        'lasso': {\n",
    "            'model': Lasso(),\n",
    "            'params': {\n",
    "                'alpha': [1, 2],\n",
    "                'selection': ['random', 'cyclic']\n",
    "            }\n",
    "        },\n",
    "        'decision_tree': {\n",
    "            'model': DecisionTreeRegressor(),\n",
    "            'params': {\n",
    "                'criterion': ['squared_error', 'friedman_mse'],  \n",
    "                'splitter': ['best', 'random']\n",
    "            }\n",
    "        }\n",
    "    }\n",
    "\n",
    "    scores = []\n",
    "    cv = ShuffleSplit(n_splits=5, test_size=0.2, random_state=0)\n",
    "    \n",
    "    for algo_name, config in algos.items():\n",
    "        gs = GridSearchCV(config['model'], config['params'], cv=cv, return_train_score=False)\n",
    "        gs.fit(X, y)\n",
    "        scores.append({\n",
    "            'model': algo_name,\n",
    "            'best_score': gs.best_score_,\n",
    "            'best_params': gs.best_params_\n",
    "        })\n",
    "\n",
    "    return pd.DataFrame(scores, columns=['model', 'best_score', 'best_params'])\n",
    "\n",
    "# Run it\n",
    "find_best_model_using_gridsearchcv(X, y)\n"
   ]
  },
  {
   "cell_type": "markdown",
   "id": "601db565-ae8a-4760-9589-f17a9bbd32ce",
   "metadata": {},
   "source": [
    "𝐅𝐢𝐧𝐚𝐥𝐥𝐲 𝐰𝐨𝐫𝐤𝐞𝐝 𝐰𝐢𝐭𝐡 𝐨𝐧𝐥𝐲 𝐑𝐚𝐧𝐝𝐨𝐦𝐅𝐨𝐫𝐞𝐬𝐭𝐑𝐞𝐠𝐫𝐞𝐬𝐬𝐨𝐫. 𝐍𝐨𝐭 𝐰𝐢𝐭𝐡 𝐋𝐢𝐧𝐞𝐚𝐫𝐑𝐞𝐠𝐫𝐞𝐬𝐬𝐢𝐨𝐧"
   ]
  },
  {
   "cell_type": "code",
   "execution_count": 147,
   "id": "1a350045-049e-45f4-9189-97d16d367568",
   "metadata": {},
   "outputs": [],
   "source": [
    "def predict_price(address,bath,beds,area): \n",
    "    loc_index = np.where(X.columns == address)[0][0]\n",
    "    x = np.zeros(len(X.columns))\n",
    "    x[0]= beds\n",
    "    x[1]= bath\n",
    "    x[2]= area\n",
    "    if loc_index >= 0:\n",
    "        x[loc_index] = 1\n",
    "    return final_model.predict([x])[0]\n",
    "    "
   ]
  },
  {
   "cell_type": "code",
   "execution_count": 150,
   "id": "392b7dfb-9a23-4b94-8503-1376830faaf6",
   "metadata": {},
   "outputs": [
    {
     "name": "stderr",
     "output_type": "stream",
     "text": [
      "C:\\Users\\Mama Din Kal kmn\\anaconda3\\Lib\\site-packages\\sklearn\\base.py:493: UserWarning: X does not have valid feature names, but RandomForestRegressor was fitted with feature names\n",
      "  warnings.warn(\n"
     ]
    },
    {
     "data": {
      "text/plain": [
       "42468.002183002165"
      ]
     },
     "execution_count": 150,
     "metadata": {},
     "output_type": "execute_result"
    }
   ],
   "source": [
    "predict_price('Mirpur DOHS, Mirpur, Dhaka',3,3,2200)"
   ]
  },
  {
   "cell_type": "code",
   "execution_count": 151,
   "id": "6b2903c4-c12c-4198-b6ba-2e9ffe708833",
   "metadata": {},
   "outputs": [],
   "source": [
    "import pickle\n",
    "with open('Dhaka_property_rent_model.pickle','wb')as f:\n",
    "    pickle.dump(final_model,f)"
   ]
  },
  {
   "cell_type": "code",
   "execution_count": 152,
   "id": "4ebb2e80-b920-43fa-8932-8355366556e3",
   "metadata": {
    "collapsed": true,
    "jupyter": {
     "outputs_hidden": true
    }
   },
   "outputs": [
    {
     "data": {
      "text/plain": [
       "Index(['beds', 'bath', 'area', '10 No. North Kattali Ward, Chattogram',\n",
       "       '11 No. South Kattali Ward, Chattogram',\n",
       "       '15 No. Bagmoniram Ward, Chattogram',\n",
       "       '24 No. North Agrabad Ward, Double Mooring, Chattogram',\n",
       "       '25 No. Rampur Ward, Double Mooring, Chattogram',\n",
       "       '30 No. East Madarbari Ward, Chattogram',\n",
       "       '33 No. Firingee Bazaar Ward, Chattogram',\n",
       "       ...\n",
       "       'Turag, Dhaka', 'Uttar Badda, Badda, Dhaka', 'Uttar Khan, Dhaka',\n",
       "       'Uttara, Dhaka', 'West Agargaon, Agargaon, Dhaka',\n",
       "       'West Dhanmondi and Shangkar, Dhanmondi, Dhaka',\n",
       "       'West Kazipara, Mirpur, Dhaka',\n",
       "       'West Khulshi R/A, 9 No. North Pahartali Ward, Chattogram',\n",
       "       'West Shewrapara, Mirpur, Dhaka',\n",
       "       'Zakir Hossain Housing Society, South Khulshi, Khulshi, Chattogram'],\n",
       "      dtype='object', length=184)"
      ]
     },
     "execution_count": 152,
     "metadata": {},
     "output_type": "execute_result"
    }
   ],
   "source": [
    "X.columns"
   ]
  },
  {
   "cell_type": "code",
   "execution_count": 154,
   "id": "22dda3d9-289a-4c70-89ff-93a24bd3a678",
   "metadata": {},
   "outputs": [],
   "source": [
    "import json\n",
    "columns = {\n",
    "    'data_columns' :[col.lower() for col in X.columns ] \n",
    "}\n",
    "with open(\"columns.json\",\"w\") as f:\n",
    "    f.write(json.dumps(columns))"
   ]
  }
 ],
 "metadata": {
  "kernelspec": {
   "display_name": "Python 3 (ipykernel)",
   "language": "python",
   "name": "python3"
  },
  "language_info": {
   "codemirror_mode": {
    "name": "ipython",
    "version": 3
   },
   "file_extension": ".py",
   "mimetype": "text/x-python",
   "name": "python",
   "nbconvert_exporter": "python",
   "pygments_lexer": "ipython3",
   "version": "3.12.7"
  }
 },
 "nbformat": 4,
 "nbformat_minor": 5
}
